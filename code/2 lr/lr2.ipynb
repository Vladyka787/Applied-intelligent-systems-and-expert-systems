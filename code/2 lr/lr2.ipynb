{
 "cells": [
  {
   "cell_type": "code",
   "execution_count": 1,
   "id": "2dae64bb",
   "metadata": {
    "pycharm": {
     "name": "#%%\n"
    },
    "ExecuteTime": {
     "end_time": "2023-12-21T22:02:25.330424600Z",
     "start_time": "2023-12-21T22:02:24.771538964Z"
    }
   },
   "outputs": [],
   "source": [
    "import warnings\n",
    "import nltk\n",
    "from sklearn.datasets import fetch_20newsgroups\n",
    "warnings.simplefilter(action='ignore', category=FutureWarning)"
   ]
  },
  {
   "cell_type": "code",
   "execution_count": 2,
   "id": "ad721965",
   "metadata": {
    "pycharm": {
     "name": "#%%\n"
    },
    "ExecuteTime": {
     "end_time": "2023-12-21T22:03:10.678681578Z",
     "start_time": "2023-12-21T22:02:25.330528940Z"
    }
   },
   "outputs": [],
   "source": [
    "categories = ['comp.os.ms-windows.misc', 'sci.med', 'talk.politics.mideast']\n",
    "remove = ('headers', 'footers', 'quotes')\n",
    "\n",
    "twenty_train_full = fetch_20newsgroups(subset='train', categories=categories, shuffle=True, random_state=42, remove=remove)\n",
    "twenty_test_full = fetch_20newsgroups(subset='test', categories=categories, shuffle=True, random_state=42, remove=remove)"
   ]
  },
  {
   "cell_type": "code",
   "execution_count": 3,
   "id": "3a5e8422",
   "metadata": {
    "pycharm": {
     "name": "#%%\n"
    },
    "ExecuteTime": {
     "end_time": "2023-12-21T22:03:10.754800671Z",
     "start_time": "2023-12-21T22:03:10.721963465Z"
    }
   },
   "outputs": [
    {
     "data": {
      "text/plain": "\"(Amir Y Rosenblatt) writes\\n   > Sam Zbib Writes\\n   >>No one in his right mind would sell his freedom and dignity.\\n   >>Palestinians are no exception. Perhaps you heard about\\n   >>anti-trust in the business world.\\n   >>\\n   >>Since we are debating the legality of a commercial\\n   >>transaction, we must use the laws governing the guidelines\\n   >>and ethics of such transactions. Basic ANTI-TRUST law says\\n   >>that, while you can purchase IBM stocks for the purpose of\\n   >>investing, you can not acquire a large number of those\\n   >>shares with the intent or controlling IBM. You can do so\\n   >>only if you make your intentions CLEAR apriori . Clearly,\\n   >>the Jews who purchased properties from palastenians had some\\n   >>designs, they were not buying a dwelling or a real estate.\\n   >They were establishing a bridgehead for the European Jews.\\n   >>\\n   >>The palastenians sold their properties to the Jews in the\\n   >>old tradition of arab hospitality. Being a multi-ethnic /\\n   >>multi-religious society, accepting the jews as neighbours\\n   >>was no different, just another religion. Plus they paid fair\\n   >>market value, etc... They did not know they were victims of\\n   >>an international conspiracy. (I'm not a conspiracy theorist\\n   >>myself, but this one is hard to dismiss).\\n   >>\\n\\n\\nAmir: \\nWhy would you categorize the sale of land as shafting? was\\nit because it was sold to Jews? was it fair to assume that the \\nfallahin would be mistreated by the jews? is this the norm of \\nany commerce (read shafting) between arabs and  jews? \\n\\nYour claim that the Lebanese/Syrian Landlords sold Palestine\\n(if true, even partially) omits the fact that the mandate\\ntreaty put Lebanon and Syria under French rule, while\\nPalestine under british.  Obiviously, any such landlord\\nwould have found himself a foreigner in Palestine and would\\nbe motivated to sell, regardless of the price.\\n\\nIt is interesting though that you acknowledge that the\\npalestinians were shafted. Do many Israelis or Jews share\\nyour opinion ?  Do you  absolve the purchaser from\\nany ethical commitments just because it wasn't written down? \\n\\nAll told, I did not see an answer in your response. The\\nquestion was whether the intent behind the purchase was\\naimed at controlling the public assets (land,\\ninfra-structure etc...). IMHO the Palestinians have grounds\\nto contest the legality of the purchase, say in world court.\\n\\nSam \""
     },
     "execution_count": 3,
     "metadata": {},
     "output_type": "execute_result"
    }
   ],
   "source": [
    "twenty_train_full.data[0]"
   ]
  },
  {
   "cell_type": "code",
   "execution_count": 4,
   "id": "919a3dfb",
   "metadata": {
    "pycharm": {
     "name": "#%%\n"
    },
    "ExecuteTime": {
     "end_time": "2023-12-21T22:03:10.757148894Z",
     "start_time": "2023-12-21T22:03:10.722618074Z"
    }
   },
   "outputs": [
    {
     "data": {
      "text/plain": "\"\\n\\n\\n\\n\\n\\tMillipedes, I understand, are vegetarian, and therefore almost\\ncertainly will not bite and are not poisonous. Centipedes are\\ncarnivorous, and although I don't have any absolute knowledge on this, I\\nwould tend to think that you're in no danger from anything but a\\nconcerted assault by several million of them.\""
     },
     "execution_count": 4,
     "metadata": {},
     "output_type": "execute_result"
    }
   ],
   "source": [
    "twenty_test_full.data[0]"
   ]
  },
  {
   "cell_type": "code",
   "execution_count": 5,
   "id": "94c050af",
   "metadata": {
    "pycharm": {
     "name": "#%%\n"
    },
    "ExecuteTime": {
     "end_time": "2023-12-21T22:04:17.806509995Z",
     "start_time": "2023-12-21T22:03:10.723276104Z"
    }
   },
   "outputs": [
    {
     "name": "stderr",
     "output_type": "stream",
     "text": [
      "[nltk_data] Downloading package punkt to /home/vlad/nltk_data...\n",
      "[nltk_data]   Unzipping tokenizers/punkt.zip.\n"
     ]
    },
    {
     "data": {
      "text/plain": "True"
     },
     "execution_count": 5,
     "metadata": {},
     "output_type": "execute_result"
    }
   ],
   "source": [
    "import nltk\n",
    "from nltk import word_tokenize\n",
    "from nltk.stem import *\n",
    "\n",
    "nltk.download('punkt')"
   ]
  },
  {
   "cell_type": "code",
   "execution_count": 6,
   "id": "4a06e896",
   "metadata": {
    "pycharm": {
     "name": "#%%\n"
    },
    "ExecuteTime": {
     "end_time": "2023-12-21T22:04:17.809092671Z",
     "start_time": "2023-12-21T22:04:17.794187322Z"
    }
   },
   "outputs": [],
   "source": [
    "def stemming(data):\n",
    "    porter_stemmer = PorterStemmer()\n",
    "    stem = []\n",
    "    for text in data:\n",
    "        nltk_tokens = word_tokenize(text)\n",
    "        line = ''.join([' ' + porter_stemmer.stem(word) for word in nltk_tokens])\n",
    "        stem.append(line)\n",
    "    return stem"
   ]
  },
  {
   "cell_type": "code",
   "execution_count": 7,
   "id": "556503b3",
   "metadata": {
    "pycharm": {
     "name": "#%%\n"
    },
    "ExecuteTime": {
     "end_time": "2023-12-21T22:04:34.289328051Z",
     "start_time": "2023-12-21T22:04:17.794992854Z"
    }
   },
   "outputs": [],
   "source": [
    "stem_train = stemming(twenty_train_full.data)\n",
    "stem_test = stemming(twenty_test_full.data)"
   ]
  },
  {
   "cell_type": "code",
   "execution_count": 8,
   "id": "4abda5e0",
   "metadata": {
    "pycharm": {
     "name": "#%%\n"
    },
    "ExecuteTime": {
     "end_time": "2023-12-21T22:04:34.293955496Z",
     "start_time": "2023-12-21T22:04:28.885976910Z"
    }
   },
   "outputs": [
    {
     "data": {
      "text/plain": "\" ( amir y rosenblatt ) write > sam zbib write > > no one in hi right mind would sell hi freedom and digniti . > > palestinian are no except . perhap you heard about > > anti-trust in the busi world . > > > > sinc we are debat the legal of a commerci > > transact , we must use the law govern the guidelin > > and ethic of such transact . basic anti-trust law say > > that , while you can purchas ibm stock for the purpos of > > invest , you can not acquir a larg number of those > > share with the intent or control ibm . you can do so > > onli if you make your intent clear apriori . clearli , > > the jew who purchas properti from palastenian had some > > design , they were not buy a dwell or a real estat . > they were establish a bridgehead for the european jew . > > > > the palastenian sold their properti to the jew in the > > old tradit of arab hospit . be a multi-ethn / > > multi-religi societi , accept the jew as neighbour > > wa no differ , just anoth religion . plu they paid fair > > market valu , etc ... they did not know they were victim of > > an intern conspiraci . ( i 'm not a conspiraci theorist > > myself , but thi one is hard to dismiss ) . > > amir : whi would you categor the sale of land as shaft ? wa it becaus it wa sold to jew ? wa it fair to assum that the fallahin would be mistreat by the jew ? is thi the norm of ani commerc ( read shaft ) between arab and jew ? your claim that the lebanese/syrian landlord sold palestin ( if true , even partial ) omit the fact that the mandat treati put lebanon and syria under french rule , while palestin under british . obivi , ani such landlord would have found himself a foreign in palestin and would be motiv to sell , regardless of the price . it is interest though that you acknowledg that the palestinian were shaft . do mani isra or jew share your opinion ? do you absolv the purchas from ani ethic commit just becaus it wa n't written down ? all told , i did not see an answer in your respons . the question wa whether the intent behind the purchas wa aim at control the public asset ( land , infra-structur etc ... ) . imho the palestinian have ground to contest the legal of the purchas , say in world court . sam\""
     },
     "execution_count": 8,
     "metadata": {},
     "output_type": "execute_result"
    }
   ],
   "source": [
    "stem_train[0]"
   ]
  },
  {
   "cell_type": "code",
   "execution_count": 9,
   "id": "bb2da467",
   "metadata": {
    "pycharm": {
     "name": "#%%\n"
    },
    "ExecuteTime": {
     "end_time": "2023-12-21T22:04:34.321963350Z",
     "start_time": "2023-12-21T22:04:28.886743542Z"
    }
   },
   "outputs": [
    {
     "data": {
      "text/plain": "\" milliped , i understand , are vegetarian , and therefor almost certainli will not bite and are not poison . centiped are carnivor , and although i do n't have ani absolut knowledg on thi , i would tend to think that you 're in no danger from anyth but a concert assault by sever million of them .\""
     },
     "execution_count": 9,
     "metadata": {},
     "output_type": "execute_result"
    }
   ],
   "source": [
    "stem_test[0]"
   ]
  },
  {
   "cell_type": "code",
   "execution_count": 10,
   "id": "38f4dda6",
   "metadata": {
    "pycharm": {
     "name": "#%%\n"
    },
    "ExecuteTime": {
     "end_time": "2023-12-21T22:04:34.323978926Z",
     "start_time": "2023-12-21T22:04:28.887626317Z"
    }
   },
   "outputs": [],
   "source": [
    "import numpy as np\n",
    "from sklearn.feature_extraction.text import CountVectorizer"
   ]
  },
  {
   "cell_type": "code",
   "execution_count": 11,
   "id": "15834539",
   "metadata": {
    "pycharm": {
     "name": "#%%\n"
    },
    "ExecuteTime": {
     "end_time": "2023-12-21T22:04:34.333632532Z",
     "start_time": "2023-12-21T22:04:28.888572576Z"
    }
   },
   "outputs": [],
   "source": [
    "vect_without_stop = CountVectorizer(max_features=10000)"
   ]
  },
  {
   "cell_type": "code",
   "execution_count": 12,
   "id": "12a749fa",
   "metadata": {
    "pycharm": {
     "name": "#%%\n"
    },
    "ExecuteTime": {
     "end_time": "2023-12-21T22:04:34.437951327Z",
     "start_time": "2023-12-21T22:04:28.907247249Z"
    }
   },
   "outputs": [],
   "source": [
    "train_data = vect_without_stop.fit_transform(twenty_train_full.data)\n",
    "test_data = vect_without_stop.transform(twenty_test_full.data)"
   ]
  },
  {
   "cell_type": "code",
   "execution_count": 13,
   "id": "80092e0a",
   "metadata": {
    "pycharm": {
     "name": "#%%\n"
    },
    "ExecuteTime": {
     "end_time": "2023-12-21T22:04:34.439659399Z",
     "start_time": "2023-12-21T22:04:29.388748153Z"
    }
   },
   "outputs": [],
   "source": [
    "def sort_by_tf(input_str):\n",
    "    return input_str[1]\n",
    "\n",
    "def top_terms(vector, data, count):\n",
    "    x = list(zip(vector.get_feature_names_out(), np.ravel(data.sum(axis=0))))\n",
    "    x.sort(key=sort_by_tf, reverse=True)\n",
    "    return x[:count]"
   ]
  },
  {
   "cell_type": "code",
   "execution_count": 14,
   "id": "4e29f2e0",
   "metadata": {
    "pycharm": {
     "name": "#%%\n"
    },
    "ExecuteTime": {
     "end_time": "2023-12-21T22:04:34.441546610Z",
     "start_time": "2023-12-21T22:04:29.394441702Z"
    }
   },
   "outputs": [
    {
     "data": {
      "text/plain": "[{'the': 14539},\n {'of': 7431},\n {'to': 6719},\n {'and': 6387},\n {'in': 4807},\n {'that': 3273},\n {'is': 3208},\n {'it': 2537},\n {'for': 2385},\n {'you': 1870},\n {'on': 1825},\n {'this': 1659},\n {'with': 1630},\n {'as': 1550},\n {'was': 1516},\n {'have': 1515},\n {'are': 1505},\n {'not': 1498},\n {'be': 1363},\n {'by': 1356}]"
     },
     "execution_count": 14,
     "metadata": {},
     "output_type": "execute_result"
    }
   ],
   "source": [
    "top_terms_without_stop = [{term[0]: term[1]} for term in top_terms(vect_without_stop, train_data, 20)]\n",
    "top_terms_without_stop\n",
    "\n",
    "top_terms_without_stop_test = [{term[0]: term[1]} for term in top_terms(vect_without_stop, test_data, 20)]\n",
    "top_terms_without_stop_test"
   ]
  },
  {
   "cell_type": "code",
   "execution_count": 15,
   "id": "0926dea4",
   "metadata": {
    "pycharm": {
     "name": "#%%\n"
    },
    "ExecuteTime": {
     "end_time": "2023-12-21T22:04:34.457328099Z",
     "start_time": "2023-12-21T22:04:29.428237319Z"
    }
   },
   "outputs": [],
   "source": [
    "vect_stop = CountVectorizer(max_features=10000, stop_words='english')"
   ]
  },
  {
   "cell_type": "code",
   "execution_count": 16,
   "id": "0666451a",
   "metadata": {
    "pycharm": {
     "name": "#%%\n"
    },
    "ExecuteTime": {
     "end_time": "2023-12-21T22:04:34.459127451Z",
     "start_time": "2023-12-21T22:04:29.447547743Z"
    }
   },
   "outputs": [],
   "source": [
    "train_data_stop = vect_stop.fit_transform(twenty_train_full.data)\n",
    "test_data_stop = vect_stop.transform(twenty_test_full.data)"
   ]
  },
  {
   "cell_type": "code",
   "execution_count": 17,
   "id": "5ced268c",
   "metadata": {
    "pycharm": {
     "name": "#%%\n"
    },
    "ExecuteTime": {
     "end_time": "2023-12-21T22:04:34.461001742Z",
     "start_time": "2023-12-21T22:04:29.903492101Z"
    }
   },
   "outputs": [
    {
     "data": {
      "text/plain": "[{'people': 585},\n {'windows': 528},\n {'like': 471},\n {'just': 410},\n {'don': 405},\n {'know': 396},\n {'armenian': 392},\n {'said': 354},\n {'time': 338},\n {'armenians': 314},\n {'use': 313},\n {'does': 307},\n {'israel': 304},\n {'new': 302},\n {'ve': 275},\n {'think': 267},\n {'jews': 256},\n {'did': 255},\n {'file': 251},\n {'dos': 248}]"
     },
     "execution_count": 17,
     "metadata": {},
     "output_type": "execute_result"
    }
   ],
   "source": [
    "top_terms_stop = [{term[0]: term[1]} for term in top_terms(vect_stop, train_data_stop, 20)]\n",
    "top_terms_stop\n",
    "\n",
    "top_terms_stop_test = [{term[0]: term[1]} for term in top_terms(vect_stop, test_data_stop, 20)]\n",
    "top_terms_stop_test"
   ]
  },
  {
   "cell_type": "code",
   "execution_count": 18,
   "id": "087d281b",
   "metadata": {
    "pycharm": {
     "name": "#%%\n"
    },
    "ExecuteTime": {
     "end_time": "2023-12-21T22:04:34.462670005Z",
     "start_time": "2023-12-21T22:04:29.913543235Z"
    }
   },
   "outputs": [],
   "source": [
    "vect_stem_without_stop = CountVectorizer(max_features=10000)"
   ]
  },
  {
   "cell_type": "code",
   "execution_count": 19,
   "id": "bb1dd35a",
   "metadata": {
    "pycharm": {
     "name": "#%%\n"
    },
    "ExecuteTime": {
     "end_time": "2023-12-21T22:04:34.475946969Z",
     "start_time": "2023-12-21T22:04:29.917159260Z"
    }
   },
   "outputs": [],
   "source": [
    "train_data_without_stop_stem = vect_stem_without_stop.fit_transform(stem_train)\n",
    "test_data_without_stop_stem = vect_stem_without_stop.transform(stem_test)"
   ]
  },
  {
   "cell_type": "code",
   "execution_count": 20,
   "id": "74a0fb12",
   "metadata": {
    "pycharm": {
     "name": "#%%\n"
    },
    "ExecuteTime": {
     "end_time": "2023-12-21T22:04:34.477966038Z",
     "start_time": "2023-12-21T22:04:30.367589835Z"
    }
   },
   "outputs": [
    {
     "data": {
      "text/plain": "[{'the': 14539},\n {'of': 7431},\n {'to': 6719},\n {'and': 6387},\n {'in': 4808},\n {'that': 3281},\n {'is': 3260},\n {'it': 2850},\n {'for': 2385},\n {'you': 1869},\n {'on': 1826},\n {'thi': 1659},\n {'have': 1641},\n {'with': 1630},\n {'be': 1560},\n {'not': 1556},\n {'wa': 1550},\n {'as': 1546},\n {'are': 1537},\n {'do': 1355}]"
     },
     "execution_count": 20,
     "metadata": {},
     "output_type": "execute_result"
    }
   ],
   "source": [
    "top_terms_stem = [{term[0]: term[1]} for term in top_terms(vect_stem_without_stop, train_data_without_stop_stem, 20)]\n",
    "top_terms_stem\n",
    "\n",
    "top_terms_stem_test = [{term[0]: term[1]} for term in top_terms(vect_stem_without_stop, test_data_without_stop_stem, 20)]\n",
    "top_terms_stem_test"
   ]
  },
  {
   "cell_type": "code",
   "execution_count": 21,
   "id": "08395cd5",
   "metadata": {
    "pycharm": {
     "name": "#%%\n"
    },
    "ExecuteTime": {
     "end_time": "2023-12-21T22:04:34.479662307Z",
     "start_time": "2023-12-21T22:04:30.393297655Z"
    }
   },
   "outputs": [],
   "source": [
    "vect_stem = CountVectorizer(max_features=10000, stop_words='english')"
   ]
  },
  {
   "cell_type": "code",
   "execution_count": 22,
   "id": "1fbcc9bf",
   "metadata": {
    "pycharm": {
     "name": "#%%\n"
    },
    "ExecuteTime": {
     "end_time": "2023-12-21T22:04:34.491241396Z",
     "start_time": "2023-12-21T22:04:30.422597824Z"
    }
   },
   "outputs": [],
   "source": [
    "train_data_stop_stem = vect_stem.fit_transform(stem_train)\n",
    "test_data_stop_stem = vect_stem.transform(stem_test)"
   ]
  },
  {
   "cell_type": "code",
   "execution_count": 23,
   "id": "b29490fe",
   "metadata": {
    "pycharm": {
     "name": "#%%\n"
    },
    "ExecuteTime": {
     "end_time": "2023-12-21T22:04:34.493152352Z",
     "start_time": "2023-12-21T22:04:30.854844491Z"
    }
   },
   "outputs": [
    {
     "data": {
      "text/plain": "[{'thi': 1659},\n {'wa': 1550},\n {'use': 740},\n {'ha': 734},\n {'armenian': 706},\n {'peopl': 606},\n {'window': 561},\n {'ani': 530},\n {'like': 506},\n {'know': 442},\n {'hi': 436},\n {'time': 432},\n {'just': 410},\n {'file': 391},\n {'doe': 388},\n {'muslim': 376},\n {'did': 375},\n {'onli': 357},\n {'year': 355},\n {'said': 354}]"
     },
     "execution_count": 23,
     "metadata": {},
     "output_type": "execute_result"
    }
   ],
   "source": [
    "top_terms_stop_stem = [{term[0]: term[1]} for term in top_terms(vect_stem, train_data_stop_stem, 20)]\n",
    "top_terms_stop_stem\n",
    "\n",
    "top_terms_stop_stem_test = [{term[0]: term[1]} for term in top_terms(vect_stem, test_data_stop_stem, 20)]\n",
    "top_terms_stop_stem_test"
   ]
  },
  {
   "cell_type": "code",
   "execution_count": 24,
   "id": "41946fb9",
   "metadata": {
    "pycharm": {
     "name": "#%%\n"
    },
    "ExecuteTime": {
     "end_time": "2023-12-21T22:04:34.494797778Z",
     "start_time": "2023-12-21T22:04:30.888980716Z"
    }
   },
   "outputs": [],
   "source": [
    "from sklearn.feature_extraction.text import TfidfTransformer"
   ]
  },
  {
   "cell_type": "code",
   "execution_count": 25,
   "id": "37672b7c",
   "metadata": {
    "pycharm": {
     "name": "#%%\n"
    },
    "ExecuteTime": {
     "end_time": "2023-12-21T22:04:34.496348361Z",
     "start_time": "2023-12-21T22:04:30.892517054Z"
    }
   },
   "outputs": [],
   "source": [
    "tf = TfidfTransformer(use_idf=False)\n",
    "tfidf = TfidfTransformer(use_idf=True)"
   ]
  },
  {
   "cell_type": "code",
   "execution_count": 26,
   "id": "ba29e15c",
   "metadata": {
    "pycharm": {
     "name": "#%%\n"
    },
    "ExecuteTime": {
     "end_time": "2023-12-21T22:04:34.505388564Z",
     "start_time": "2023-12-21T22:04:30.895856305Z"
    }
   },
   "outputs": [],
   "source": [
    "train_data_tf = tf.fit_transform(train_data)\n",
    "test_data_tf = tf.transform(test_data)\n",
    "\n",
    "train_data_tfidf = tfidf.fit_transform(train_data)\n",
    "test_data_tfidf = tfidf.transform(test_data)"
   ]
  },
  {
   "cell_type": "code",
   "execution_count": 27,
   "id": "58cedc43",
   "metadata": {
    "pycharm": {
     "name": "#%%\n"
    },
    "ExecuteTime": {
     "end_time": "2023-12-21T22:04:34.509155862Z",
     "start_time": "2023-12-21T22:04:30.943657873Z"
    }
   },
   "outputs": [
    {
     "data": {
      "text/plain": "[{'the': 157.81600652977625},\n {'to': 95.76882725313655},\n {'of': 88.3511825497112},\n {'and': 76.27572679535747},\n {'in': 62.28808170697198},\n {'is': 59.99523519793167},\n {'that': 58.0275724174942},\n {'it': 51.405158372353476},\n {'you': 48.90835882309294},\n {'for': 45.02428709408522},\n {'this': 36.53119998360545},\n {'have': 34.9709106757255},\n {'on': 33.861034197852725},\n {'are': 33.446024082297626},\n {'not': 33.381554648365984},\n {'as': 31.470663554161135},\n {'be': 29.998314554593797},\n {'or': 28.536178873638235},\n {'with': 28.50341688678757},\n {'was': 26.767637478284687}]"
     },
     "execution_count": 27,
     "metadata": {},
     "output_type": "execute_result"
    }
   ],
   "source": [
    "top_terms_tf = [{term[0]: term[1]} for term in top_terms(vect_without_stop, train_data_tf, 20)]\n",
    "top_terms_tf\n",
    "\n",
    "top_terms_tf_test = [{term[0]: term[1]} for term in top_terms(vect_without_stop, test_data_tf, 20)]\n",
    "top_terms_tf_test\n",
    "\n",
    "top_terms_tfidf = [{term[0]: term[1]} for term in top_terms(vect_without_stop, train_data_tfidf, 20)]\n",
    "top_terms_tfidf\n",
    "\n",
    "top_terms_tfidf_test = [{term[0]: term[1]} for term in top_terms(vect_without_stop, test_data_tfidf, 20)]\n",
    "top_terms_tfidf_test"
   ]
  },
  {
   "cell_type": "code",
   "execution_count": 28,
   "id": "0e08cd3d",
   "metadata": {
    "pycharm": {
     "name": "#%%\n"
    },
    "ExecuteTime": {
     "end_time": "2023-12-21T22:04:34.511058717Z",
     "start_time": "2023-12-21T22:04:30.986110203Z"
    }
   },
   "outputs": [],
   "source": [
    "tf = TfidfTransformer(use_idf=False)\n",
    "tfidf = TfidfTransformer(use_idf=True)"
   ]
  },
  {
   "cell_type": "code",
   "execution_count": 29,
   "id": "cee32073",
   "metadata": {
    "pycharm": {
     "name": "#%%\n"
    },
    "ExecuteTime": {
     "end_time": "2023-12-21T22:04:34.517497946Z",
     "start_time": "2023-12-21T22:04:30.986923278Z"
    }
   },
   "outputs": [],
   "source": [
    "train_data_stop_tf = tf.fit_transform(train_data_stop)\n",
    "test_data_stop_tf = tf.transform(test_data_stop)\n",
    "\n",
    "train_data_stop_tfidf = tfidf.fit_transform(train_data_stop)\n",
    "test_data_stop_tfidf = tfidf.transform(test_data_stop)"
   ]
  },
  {
   "cell_type": "code",
   "execution_count": 30,
   "id": "6bab80cb",
   "metadata": {
    "pycharm": {
     "name": "#%%\n"
    },
    "ExecuteTime": {
     "end_time": "2023-12-21T22:04:34.529862663Z",
     "start_time": "2023-12-21T22:04:31.029944522Z"
    }
   },
   "outputs": [
    {
     "data": {
      "text/plain": "[{'windows': 29.89251649051573},\n {'don': 20.52290818684906},\n {'people': 20.21588163348893},\n {'like': 19.83785627913987},\n {'know': 19.16691728099501},\n {'just': 18.379546721380088},\n {'does': 17.749860903200577},\n {'dos': 17.002378078926135},\n {'think': 15.645049018787713},\n {'os': 14.225986842543938},\n {'thanks': 13.702781562424326},\n {'israel': 13.572715158145664},\n {'use': 13.491902739171277},\n {'good': 13.427650870560498},\n {'ve': 13.407031746857905},\n {'way': 12.808019975593862},\n {'file': 12.503178767171308},\n {'time': 12.095394512813783},\n {'did': 12.014543207096631},\n {'jews': 11.689308836949936}]"
     },
     "execution_count": 30,
     "metadata": {},
     "output_type": "execute_result"
    }
   ],
   "source": [
    "top_terms_stop_tf = [{term[0]: term[1]} for term in top_terms(vect_stop, train_data_stop_tf, 20)]\n",
    "top_terms_stop_tf\n",
    "\n",
    "top_terms_stop_tf_test = [{term[0]: term[1]} for term in top_terms(vect_stop, test_data_stop_tf, 20)]\n",
    "top_terms_stop_tf_test\n",
    "\n",
    "top_terms_stop_tfidf = [{term[0]: term[1]} for term in top_terms(vect_stop, train_data_stop_tfidf, 20)]\n",
    "top_terms_stop_tfidf\n",
    "\n",
    "top_terms_stop_tfidf_test = [{term[0]: term[1]} for term in top_terms(vect_stop, test_data_stop_tfidf, 20)]\n",
    "top_terms_stop_tfidf_test"
   ]
  },
  {
   "cell_type": "code",
   "execution_count": 31,
   "id": "7093aff3",
   "metadata": {
    "pycharm": {
     "name": "#%%\n"
    },
    "ExecuteTime": {
     "end_time": "2023-12-21T22:04:34.531575344Z",
     "start_time": "2023-12-21T22:04:31.045292585Z"
    }
   },
   "outputs": [],
   "source": [
    "tf = TfidfTransformer(use_idf=False)\n",
    "tfidf = TfidfTransformer(use_idf=True)"
   ]
  },
  {
   "cell_type": "code",
   "execution_count": 32,
   "id": "a46a4bdb",
   "metadata": {
    "pycharm": {
     "name": "#%%\n"
    },
    "ExecuteTime": {
     "end_time": "2023-12-21T22:04:34.533219373Z",
     "start_time": "2023-12-21T22:04:31.085955340Z"
    }
   },
   "outputs": [],
   "source": [
    "train_data_stem_tf = tf.fit_transform(train_data_without_stop_stem)\n",
    "test_data_stem_tf = tf.transform(test_data_without_stop_stem)\n",
    "\n",
    "train_data_stem_tfidf = tfidf.fit_transform(train_data_without_stop_stem)\n",
    "test_data_stem_tfidf = tfidf.transform(test_data_without_stop_stem)"
   ]
  },
  {
   "cell_type": "code",
   "execution_count": 33,
   "id": "1b278031",
   "metadata": {
    "pycharm": {
     "name": "#%%\n"
    },
    "ExecuteTime": {
     "end_time": "2023-12-21T22:04:34.540168153Z",
     "start_time": "2023-12-21T22:04:31.086400988Z"
    }
   },
   "outputs": [
    {
     "data": {
      "text/plain": "[{'the': 155.17937196886095},\n {'to': 94.62983334647986},\n {'of': 86.6786435883915},\n {'and': 75.05980035123291},\n {'in': 61.25732116324329},\n {'is': 60.47443793184465},\n {'that': 57.56681854087221},\n {'it': 53.887881597239605},\n {'you': 48.53260429506063},\n {'for': 44.42326699464681},\n {'do': 39.206613260817264},\n {'have': 36.45202385352554},\n {'thi': 36.140426758521855},\n {'not': 33.85327299216085},\n {'are': 33.68305411470661},\n {'on': 33.305383486442175},\n {'be': 32.42981012200503},\n {'as': 31.091460789605534},\n {'or': 28.326119993701457},\n {'with': 27.992601514584756}]"
     },
     "execution_count": 33,
     "metadata": {},
     "output_type": "execute_result"
    }
   ],
   "source": [
    "top_terms_stem_tf = [{term[0]: term[1]} for term in top_terms(vect_stem_without_stop, train_data_stem_tf, 20)]\n",
    "top_terms_stem_tf\n",
    "\n",
    "top_terms_stem_tf_test = [{term[0]: term[1]} for term in top_terms(vect_stem_without_stop, test_data_stem_tf, 20)]\n",
    "top_terms_stem_tf_test\n",
    "\n",
    "top_terms_stem_tfidf = [{term[0]: term[1]} for term in top_terms(vect_stem_without_stop, train_data_stem_tfidf, 20)]\n",
    "top_terms_stem_tfidf\n",
    "\n",
    "top_terms_stem_tfidf_test = [{term[0]: term[1]} for term in top_terms(vect_stem_without_stop, test_data_stem_tfidf, 20)]\n",
    "top_terms_stem_tfidf_test"
   ]
  },
  {
   "cell_type": "code",
   "execution_count": 34,
   "id": "b2f2d72b",
   "metadata": {
    "pycharm": {
     "name": "#%%\n"
    },
    "ExecuteTime": {
     "end_time": "2023-12-21T22:04:34.542277245Z",
     "start_time": "2023-12-21T22:04:31.134046814Z"
    }
   },
   "outputs": [],
   "source": [
    "tf = TfidfTransformer(use_idf=False)\n",
    "tfidf = TfidfTransformer(use_idf=True)"
   ]
  },
  {
   "cell_type": "code",
   "execution_count": 35,
   "id": "c39743f8",
   "metadata": {
    "pycharm": {
     "name": "#%%\n"
    },
    "ExecuteTime": {
     "end_time": "2023-12-21T22:04:34.544169206Z",
     "start_time": "2023-12-21T22:04:31.134465922Z"
    }
   },
   "outputs": [],
   "source": [
    "train_data_stem_stop_tf = tf.fit_transform(train_data_stop_stem)\n",
    "test_data_stem_stop_tf = tf.transform(test_data_stop_stem)\n",
    "\n",
    "train_data_stem_stop_tfidf = tfidf.fit_transform(train_data_stop_stem)\n",
    "test_data_stem_stop_tfidf = tfidf.transform(test_data_stop_stem)"
   ]
  },
  {
   "cell_type": "code",
   "execution_count": 36,
   "id": "29563dfb",
   "metadata": {
    "pycharm": {
     "name": "#%%\n"
    },
    "ExecuteTime": {
     "end_time": "2023-12-21T22:04:34.546338430Z",
     "start_time": "2023-12-21T22:04:31.177924713Z"
    }
   },
   "outputs": [
    {
     "data": {
      "text/plain": "[{'wmx': 49.928307001405756},\n {'leagu': 39.428873407818834},\n {'dens': 37.81290632375341},\n {'pe': 37.776238966326034},\n {'k80': 36.1173101578041},\n {'iy': 35.86977122072824},\n {'delusion': 30.415585871642556},\n {'transcript': 26.82596604853647},\n {'van': 22.760988077071403},\n {'troop': 20.852232534795434},\n {'depress': 20.600786271752604},\n {'fungu': 20.533030553887926},\n {'widespread': 20.393145581655908},\n {'tr': 20.12425798328614},\n {'virtu': 20.033861107196966},\n {'ink': 19.01196128715913},\n {'d1': 18.222145928587427},\n {'promin': 17.76147664514586},\n {'dissid': 16.82916991056713},\n {'explos': 16.788450275905518}]"
     },
     "execution_count": 36,
     "metadata": {},
     "output_type": "execute_result"
    }
   ],
   "source": [
    "top_terms_stem_stop_tf = [{term[0]: term[1]} for term in top_terms(vect_stem, train_data_stop_tf, 20)]\n",
    "top_terms_stem_stop_tf\n",
    "\n",
    "top_terms_stem_stop_tf_test = [{term[0]: term[1]} for term in top_terms(vect_stem, test_data_stop_tf, 20)]\n",
    "top_terms_stem_stop_tf_test\n",
    "\n",
    "top_terms_stem_stop_tfidf = [{term[0]: term[1]} for term in top_terms(vect_stem, train_data_stop_tf, 20)]\n",
    "top_terms_stem_stop_tfidf\n",
    "\n",
    "top_terms_stem_stop_tfidf_test = [{term[0]: term[1]} for term in top_terms(vect_stem, test_data_stop_tf, 20)]\n",
    "top_terms_stem_stop_tfidf_test"
   ]
  },
  {
   "cell_type": "code",
   "execution_count": 37,
   "id": "17759eee",
   "metadata": {
    "pycharm": {
     "name": "#%%\n"
    },
    "ExecuteTime": {
     "end_time": "2023-12-21T22:04:34.548046781Z",
     "start_time": "2023-12-21T22:04:31.197771158Z"
    }
   },
   "outputs": [],
   "source": [
    "import pandas as pd"
   ]
  },
  {
   "cell_type": "code",
   "execution_count": 38,
   "id": "7349d6cf",
   "metadata": {
    "pycharm": {
     "name": "#%%\n"
    },
    "ExecuteTime": {
     "end_time": "2023-12-21T22:04:34.549864012Z",
     "start_time": "2023-12-21T22:04:31.489790619Z"
    }
   },
   "outputs": [],
   "source": [
    "columns = pd.MultiIndex.from_product([['Count', 'TF', 'TF-IDF'], ['Без стоп-слов', 'С стоп-словами']])"
   ]
  },
  {
   "cell_type": "code",
   "execution_count": 39,
   "id": "914e3db3",
   "metadata": {
    "pycharm": {
     "name": "#%%\n"
    },
    "ExecuteTime": {
     "end_time": "2023-12-21T22:04:34.560693092Z",
     "start_time": "2023-12-21T22:04:31.490223486Z"
    }
   },
   "outputs": [
    {
     "data": {
      "text/plain": "             Count                                                TF  \\\n     Без стоп-слов      С стоп-словами                 Без стоп-слов   \n0    {'ax': 62375}       {'ax': 62375}    {'the': 572.5279808540205}   \n1   {'the': 19976}       {'max': 4475}     {'to': 316.6842067333636}   \n2    {'of': 10085}       {'g9v': 1166}     {'of': 276.5629209395146}   \n3     {'to': 9555}       {'b8f': 1111}   {'and': 235.55936019732573}   \n4    {'and': 8963}    {'people': 1037}    {'is': 207.93746375638847}   \n5     {'in': 6603}        {'a86': 916}    {'in': 188.74633407506516}   \n6   {'that': 5088}         {'pl': 826}     {'it': 186.8837907643837}   \n7     {'is': 4875}        {'145': 758}  {'that': 165.24581293629535}   \n8    {'max': 4475}        {'don': 690}   {'you': 133.22294711173362}   \n9     {'it': 4369}       {'know': 684}   {'for': 115.24346051918967}   \n10   {'you': 3253}    {'windows': 683}   {'this': 89.87836424784838}   \n11   {'for': 3142}       {'like': 682}    {'not': 86.82239606414988}   \n12    {'on': 2437}        {'1d9': 672}   {'have': 86.21138730083206}   \n13  {'they': 2434}       {'just': 654}    {'are': 84.04392641012248}   \n14   {'was': 2380}       {'said': 612}   {'with': 80.64767438481918}   \n15   {'are': 2324}   {'armenian': 611}     {'on': 80.12024137143938}   \n16  {'with': 2323}        {'34u': 549}     {'be': 77.80442899640376}   \n17   {'not': 2317}        {'edu': 520}     {'as': 64.66212813317655}   \n18    {'as': 2241}        {'use': 519}     {'or': 63.29792999972209}   \n19  {'this': 2239}  {'armenians': 511}    {'but': 62.15928273654352}   \n\n                                                           TF-IDF  \\\n                     С стоп-словами                 Без стоп-слов   \n0    {'windows': 66.67395477054924}   {'the': 229.06126555168856}   \n1       {'know': 55.58408988539479}    {'to': 131.43055242905746}   \n2      {'just': 52.966420982934565}    {'of': 125.15513289020626}   \n3       {'like': 52.62319604161889}   {'and': 104.57880639093214}   \n4     {'people': 51.95889281516506}     {'is': 92.18661169101847}   \n5       {'don': 49.042693087083144}     {'in': 89.40058982207171}   \n6      {'does': 40.575102798866936}     {'it': 87.57693261450338}   \n7      {'think': 39.41225512825948}   {'that': 81.55691582302615}   \n8       {'edu': 38.150401375813914}     {'you': 76.2185447021307}   \n9        {'use': 37.00856397329775}   {'for': 59.885117686309485}   \n10    {'israel': 36.02420043595104}   {'not': 50.501470338423786}   \n11      {'time': 31.26149301016876}    {'are': 50.19844908308261}   \n12    {'thanks': 29.69807388079488}  {'this': 50.130807545955825}   \n13  {'problem': 29.695653951030643}   {'have': 47.89927209096059}   \n14     {'file': 28.021970607799666}     {'on': 46.33846388427263}   \n15     {'good': 26.012999305528727}   {'with': 45.79360232553674}   \n16      {'new': 23.267845278129325}     {'be': 45.39575458257672}   \n17       {'did': 22.70290879731437}     {'as': 41.57038508586187}   \n18      {'using': 22.4596790382321}     {'was': 39.7196107301007}   \n19       {'want': 22.2665609714906}     {'or': 39.02119311562802}   \n\n                                     \n                     С стоп-словами  \n0   {'windows': 38.703929569272574}  \n1       {'know': 29.26659456172411}  \n2     {'people': 27.37639366571801}  \n3      {'just': 27.126745276279078}  \n4        {'don': 26.59188993585221}  \n5       {'like': 26.07689275309705}  \n6    {'israel': 25.409328160691086}  \n7       {'edu': 24.064161463125053}  \n8      {'does': 23.835573473709914}  \n9      {'think': 22.53184825960246}  \n10       {'use': 21.46257326769098}  \n11   {'thanks': 20.494783550321017}  \n12     {'file': 20.433369634520584}  \n13   {'problem': 18.73299290441703}  \n14     {'time': 17.915896104615317}  \n15      {'good': 16.65801991018495}  \n16   {'israeli': 16.35054434989266}  \n17     {'jews': 16.080852951567188}  \n18      {'dos': 15.599431821310455}  \n19      {'did': 14.994894199229911}  ",
      "text/html": "<div>\n<style scoped>\n    .dataframe tbody tr th:only-of-type {\n        vertical-align: middle;\n    }\n\n    .dataframe tbody tr th {\n        vertical-align: top;\n    }\n\n    .dataframe thead tr th {\n        text-align: left;\n    }\n</style>\n<table border=\"1\" class=\"dataframe\">\n  <thead>\n    <tr>\n      <th></th>\n      <th colspan=\"2\" halign=\"left\">Count</th>\n      <th colspan=\"2\" halign=\"left\">TF</th>\n      <th colspan=\"2\" halign=\"left\">TF-IDF</th>\n    </tr>\n    <tr>\n      <th></th>\n      <th>Без стоп-слов</th>\n      <th>С стоп-словами</th>\n      <th>Без стоп-слов</th>\n      <th>С стоп-словами</th>\n      <th>Без стоп-слов</th>\n      <th>С стоп-словами</th>\n    </tr>\n  </thead>\n  <tbody>\n    <tr>\n      <th>0</th>\n      <td>{'ax': 62375}</td>\n      <td>{'ax': 62375}</td>\n      <td>{'the': 572.5279808540205}</td>\n      <td>{'windows': 66.67395477054924}</td>\n      <td>{'the': 229.06126555168856}</td>\n      <td>{'windows': 38.703929569272574}</td>\n    </tr>\n    <tr>\n      <th>1</th>\n      <td>{'the': 19976}</td>\n      <td>{'max': 4475}</td>\n      <td>{'to': 316.6842067333636}</td>\n      <td>{'know': 55.58408988539479}</td>\n      <td>{'to': 131.43055242905746}</td>\n      <td>{'know': 29.26659456172411}</td>\n    </tr>\n    <tr>\n      <th>2</th>\n      <td>{'of': 10085}</td>\n      <td>{'g9v': 1166}</td>\n      <td>{'of': 276.5629209395146}</td>\n      <td>{'just': 52.966420982934565}</td>\n      <td>{'of': 125.15513289020626}</td>\n      <td>{'people': 27.37639366571801}</td>\n    </tr>\n    <tr>\n      <th>3</th>\n      <td>{'to': 9555}</td>\n      <td>{'b8f': 1111}</td>\n      <td>{'and': 235.55936019732573}</td>\n      <td>{'like': 52.62319604161889}</td>\n      <td>{'and': 104.57880639093214}</td>\n      <td>{'just': 27.126745276279078}</td>\n    </tr>\n    <tr>\n      <th>4</th>\n      <td>{'and': 8963}</td>\n      <td>{'people': 1037}</td>\n      <td>{'is': 207.93746375638847}</td>\n      <td>{'people': 51.95889281516506}</td>\n      <td>{'is': 92.18661169101847}</td>\n      <td>{'don': 26.59188993585221}</td>\n    </tr>\n    <tr>\n      <th>5</th>\n      <td>{'in': 6603}</td>\n      <td>{'a86': 916}</td>\n      <td>{'in': 188.74633407506516}</td>\n      <td>{'don': 49.042693087083144}</td>\n      <td>{'in': 89.40058982207171}</td>\n      <td>{'like': 26.07689275309705}</td>\n    </tr>\n    <tr>\n      <th>6</th>\n      <td>{'that': 5088}</td>\n      <td>{'pl': 826}</td>\n      <td>{'it': 186.8837907643837}</td>\n      <td>{'does': 40.575102798866936}</td>\n      <td>{'it': 87.57693261450338}</td>\n      <td>{'israel': 25.409328160691086}</td>\n    </tr>\n    <tr>\n      <th>7</th>\n      <td>{'is': 4875}</td>\n      <td>{'145': 758}</td>\n      <td>{'that': 165.24581293629535}</td>\n      <td>{'think': 39.41225512825948}</td>\n      <td>{'that': 81.55691582302615}</td>\n      <td>{'edu': 24.064161463125053}</td>\n    </tr>\n    <tr>\n      <th>8</th>\n      <td>{'max': 4475}</td>\n      <td>{'don': 690}</td>\n      <td>{'you': 133.22294711173362}</td>\n      <td>{'edu': 38.150401375813914}</td>\n      <td>{'you': 76.2185447021307}</td>\n      <td>{'does': 23.835573473709914}</td>\n    </tr>\n    <tr>\n      <th>9</th>\n      <td>{'it': 4369}</td>\n      <td>{'know': 684}</td>\n      <td>{'for': 115.24346051918967}</td>\n      <td>{'use': 37.00856397329775}</td>\n      <td>{'for': 59.885117686309485}</td>\n      <td>{'think': 22.53184825960246}</td>\n    </tr>\n    <tr>\n      <th>10</th>\n      <td>{'you': 3253}</td>\n      <td>{'windows': 683}</td>\n      <td>{'this': 89.87836424784838}</td>\n      <td>{'israel': 36.02420043595104}</td>\n      <td>{'not': 50.501470338423786}</td>\n      <td>{'use': 21.46257326769098}</td>\n    </tr>\n    <tr>\n      <th>11</th>\n      <td>{'for': 3142}</td>\n      <td>{'like': 682}</td>\n      <td>{'not': 86.82239606414988}</td>\n      <td>{'time': 31.26149301016876}</td>\n      <td>{'are': 50.19844908308261}</td>\n      <td>{'thanks': 20.494783550321017}</td>\n    </tr>\n    <tr>\n      <th>12</th>\n      <td>{'on': 2437}</td>\n      <td>{'1d9': 672}</td>\n      <td>{'have': 86.21138730083206}</td>\n      <td>{'thanks': 29.69807388079488}</td>\n      <td>{'this': 50.130807545955825}</td>\n      <td>{'file': 20.433369634520584}</td>\n    </tr>\n    <tr>\n      <th>13</th>\n      <td>{'they': 2434}</td>\n      <td>{'just': 654}</td>\n      <td>{'are': 84.04392641012248}</td>\n      <td>{'problem': 29.695653951030643}</td>\n      <td>{'have': 47.89927209096059}</td>\n      <td>{'problem': 18.73299290441703}</td>\n    </tr>\n    <tr>\n      <th>14</th>\n      <td>{'was': 2380}</td>\n      <td>{'said': 612}</td>\n      <td>{'with': 80.64767438481918}</td>\n      <td>{'file': 28.021970607799666}</td>\n      <td>{'on': 46.33846388427263}</td>\n      <td>{'time': 17.915896104615317}</td>\n    </tr>\n    <tr>\n      <th>15</th>\n      <td>{'are': 2324}</td>\n      <td>{'armenian': 611}</td>\n      <td>{'on': 80.12024137143938}</td>\n      <td>{'good': 26.012999305528727}</td>\n      <td>{'with': 45.79360232553674}</td>\n      <td>{'good': 16.65801991018495}</td>\n    </tr>\n    <tr>\n      <th>16</th>\n      <td>{'with': 2323}</td>\n      <td>{'34u': 549}</td>\n      <td>{'be': 77.80442899640376}</td>\n      <td>{'new': 23.267845278129325}</td>\n      <td>{'be': 45.39575458257672}</td>\n      <td>{'israeli': 16.35054434989266}</td>\n    </tr>\n    <tr>\n      <th>17</th>\n      <td>{'not': 2317}</td>\n      <td>{'edu': 520}</td>\n      <td>{'as': 64.66212813317655}</td>\n      <td>{'did': 22.70290879731437}</td>\n      <td>{'as': 41.57038508586187}</td>\n      <td>{'jews': 16.080852951567188}</td>\n    </tr>\n    <tr>\n      <th>18</th>\n      <td>{'as': 2241}</td>\n      <td>{'use': 519}</td>\n      <td>{'or': 63.29792999972209}</td>\n      <td>{'using': 22.4596790382321}</td>\n      <td>{'was': 39.7196107301007}</td>\n      <td>{'dos': 15.599431821310455}</td>\n    </tr>\n    <tr>\n      <th>19</th>\n      <td>{'this': 2239}</td>\n      <td>{'armenians': 511}</td>\n      <td>{'but': 62.15928273654352}</td>\n      <td>{'want': 22.2665609714906}</td>\n      <td>{'or': 39.02119311562802}</td>\n      <td>{'did': 14.994894199229911}</td>\n    </tr>\n  </tbody>\n</table>\n</div>"
     },
     "execution_count": 39,
     "metadata": {},
     "output_type": "execute_result"
    }
   ],
   "source": [
    "df1 = pd.DataFrame(columns=columns)\n",
    "\n",
    "df1['Count', 'Без стоп-слов'] = top_terms_without_stop\n",
    "df1['TF', 'Без стоп-слов'] = top_terms_tf\n",
    "df1['TF-IDF', 'Без стоп-слов'] = top_terms_tfidf\n",
    "\n",
    "df1['Count', 'С стоп-словами'] = top_terms_stop\n",
    "df1['TF', 'С стоп-словами'] = top_terms_stop_tf\n",
    "df1['TF-IDF', 'С стоп-словами'] = top_terms_stop_tfidf\n",
    "\n",
    "df1"
   ]
  },
  {
   "cell_type": "code",
   "execution_count": 40,
   "id": "80a5abd1",
   "metadata": {
    "pycharm": {
     "name": "#%%\n"
    },
    "ExecuteTime": {
     "end_time": "2023-12-21T22:04:34.571206495Z",
     "start_time": "2023-12-21T22:04:31.533809106Z"
    }
   },
   "outputs": [
    {
     "data": {
      "text/plain": "             Count                                                TF  \\\n     Без стоп-слов      С стоп-словами                 Без стоп-слов   \n0   {'the': 14539}     {'people': 585}    {'the': 383.7572889224506}   \n1     {'of': 7431}    {'windows': 528}    {'to': 226.24130548502015}   \n2     {'to': 6719}       {'like': 471}     {'of': 191.5853597991806}   \n3    {'and': 6387}       {'just': 410}    {'and': 169.1241503600053}   \n4     {'in': 4807}        {'don': 405}     {'is': 133.4494756369226}   \n5   {'that': 3273}       {'know': 396}    {'in': 128.51188330965388}   \n6     {'is': 3208}   {'armenian': 392}  {'that': 115.54338090374101}   \n7     {'it': 2537}       {'said': 354}     {'it': 108.9883845364941}   \n8    {'for': 2385}       {'time': 338}    {'for': 84.50121525814092}   \n9    {'you': 1870}  {'armenians': 314}    {'you': 82.89183206317075}   \n10    {'on': 1825}        {'use': 313}    {'this': 64.5446625448822}   \n11  {'this': 1659}       {'does': 307}  {'have': 60.830065453305956}   \n12  {'with': 1630}     {'israel': 304}     {'on': 57.66408502351303}   \n13    {'as': 1550}        {'new': 302}   {'not': 55.770336783831326}   \n14   {'was': 1516}         {'ve': 275}   {'are': 54.189676933537385}   \n15  {'have': 1515}      {'think': 267}    {'be': 50.142615228989534}   \n16   {'are': 1505}       {'jews': 256}   {'with': 48.56711606297654}   \n17   {'not': 1498}        {'did': 255}     {'as': 47.88693934553237}   \n18    {'be': 1363}       {'file': 251}      {'or': 45.1913457547514}   \n19    {'by': 1356}        {'dos': 248}    {'but': 42.52231440943533}   \n\n                                                          TF-IDF  \\\n                     С стоп-словами                Без стоп-слов   \n0   {'windows': 49.928307001405756}  {'the': 157.81600652977625}   \n1      {'like': 39.428873407818834}    {'to': 95.76882725313655}   \n2        {'don': 37.81290632375341}     {'of': 88.3511825497112}   \n3    {'people': 37.776238966326034}   {'and': 76.27572679535747}   \n4        {'know': 36.1173101578041}    {'in': 62.28808170697198}   \n5       {'just': 35.86977122072824}    {'is': 59.99523519793167}   \n6      {'does': 30.415585871642556}   {'that': 58.0275724174942}   \n7      {'think': 26.82596604853647}   {'it': 51.405158372353476}   \n8       {'use': 22.760988077071403}   {'you': 48.90835882309294}   \n9      {'time': 20.852232534795434}   {'for': 45.02428709408522}   \n10      {'dos': 20.600786271752604}  {'this': 36.53119998360545}   \n11     {'good': 20.533030553887926}   {'have': 34.9709106757255}   \n12      {'way': 20.393145581655908}   {'on': 33.861034197852725}   \n13    {'thanks': 20.12425798328614}  {'are': 33.446024082297626}   \n14       {'ve': 20.033861107196966}  {'not': 33.381554648365984}   \n15    {'israel': 19.01196128715913}   {'as': 31.470663554161135}   \n16      {'did': 18.222145928587427}   {'be': 29.998314554593797}   \n17   {'problem': 17.76147664514586}   {'or': 28.536178873638235}   \n18       {'edu': 16.82916991056713}  {'with': 28.50341688678757}   \n19     {'file': 16.788450275905518}  {'was': 26.767637478284687}   \n\n                                    \n                    С стоп-словами  \n0   {'windows': 29.89251649051573}  \n1       {'don': 20.52290818684906}  \n2    {'people': 20.21588163348893}  \n3      {'like': 19.83785627913987}  \n4      {'know': 19.16691728099501}  \n5     {'just': 18.379546721380088}  \n6     {'does': 17.749860903200577}  \n7      {'dos': 17.002378078926135}  \n8    {'think': 15.645049018787713}  \n9       {'os': 14.225986842543938}  \n10  {'thanks': 13.702781562424326}  \n11  {'israel': 13.572715158145664}  \n12     {'use': 13.491902739171277}  \n13    {'good': 13.427650870560498}  \n14      {'ve': 13.407031746857905}  \n15     {'way': 12.808019975593862}  \n16    {'file': 12.503178767171308}  \n17    {'time': 12.095394512813783}  \n18     {'did': 12.014543207096631}  \n19    {'jews': 11.689308836949936}  ",
      "text/html": "<div>\n<style scoped>\n    .dataframe tbody tr th:only-of-type {\n        vertical-align: middle;\n    }\n\n    .dataframe tbody tr th {\n        vertical-align: top;\n    }\n\n    .dataframe thead tr th {\n        text-align: left;\n    }\n</style>\n<table border=\"1\" class=\"dataframe\">\n  <thead>\n    <tr>\n      <th></th>\n      <th colspan=\"2\" halign=\"left\">Count</th>\n      <th colspan=\"2\" halign=\"left\">TF</th>\n      <th colspan=\"2\" halign=\"left\">TF-IDF</th>\n    </tr>\n    <tr>\n      <th></th>\n      <th>Без стоп-слов</th>\n      <th>С стоп-словами</th>\n      <th>Без стоп-слов</th>\n      <th>С стоп-словами</th>\n      <th>Без стоп-слов</th>\n      <th>С стоп-словами</th>\n    </tr>\n  </thead>\n  <tbody>\n    <tr>\n      <th>0</th>\n      <td>{'the': 14539}</td>\n      <td>{'people': 585}</td>\n      <td>{'the': 383.7572889224506}</td>\n      <td>{'windows': 49.928307001405756}</td>\n      <td>{'the': 157.81600652977625}</td>\n      <td>{'windows': 29.89251649051573}</td>\n    </tr>\n    <tr>\n      <th>1</th>\n      <td>{'of': 7431}</td>\n      <td>{'windows': 528}</td>\n      <td>{'to': 226.24130548502015}</td>\n      <td>{'like': 39.428873407818834}</td>\n      <td>{'to': 95.76882725313655}</td>\n      <td>{'don': 20.52290818684906}</td>\n    </tr>\n    <tr>\n      <th>2</th>\n      <td>{'to': 6719}</td>\n      <td>{'like': 471}</td>\n      <td>{'of': 191.5853597991806}</td>\n      <td>{'don': 37.81290632375341}</td>\n      <td>{'of': 88.3511825497112}</td>\n      <td>{'people': 20.21588163348893}</td>\n    </tr>\n    <tr>\n      <th>3</th>\n      <td>{'and': 6387}</td>\n      <td>{'just': 410}</td>\n      <td>{'and': 169.1241503600053}</td>\n      <td>{'people': 37.776238966326034}</td>\n      <td>{'and': 76.27572679535747}</td>\n      <td>{'like': 19.83785627913987}</td>\n    </tr>\n    <tr>\n      <th>4</th>\n      <td>{'in': 4807}</td>\n      <td>{'don': 405}</td>\n      <td>{'is': 133.4494756369226}</td>\n      <td>{'know': 36.1173101578041}</td>\n      <td>{'in': 62.28808170697198}</td>\n      <td>{'know': 19.16691728099501}</td>\n    </tr>\n    <tr>\n      <th>5</th>\n      <td>{'that': 3273}</td>\n      <td>{'know': 396}</td>\n      <td>{'in': 128.51188330965388}</td>\n      <td>{'just': 35.86977122072824}</td>\n      <td>{'is': 59.99523519793167}</td>\n      <td>{'just': 18.379546721380088}</td>\n    </tr>\n    <tr>\n      <th>6</th>\n      <td>{'is': 3208}</td>\n      <td>{'armenian': 392}</td>\n      <td>{'that': 115.54338090374101}</td>\n      <td>{'does': 30.415585871642556}</td>\n      <td>{'that': 58.0275724174942}</td>\n      <td>{'does': 17.749860903200577}</td>\n    </tr>\n    <tr>\n      <th>7</th>\n      <td>{'it': 2537}</td>\n      <td>{'said': 354}</td>\n      <td>{'it': 108.9883845364941}</td>\n      <td>{'think': 26.82596604853647}</td>\n      <td>{'it': 51.405158372353476}</td>\n      <td>{'dos': 17.002378078926135}</td>\n    </tr>\n    <tr>\n      <th>8</th>\n      <td>{'for': 2385}</td>\n      <td>{'time': 338}</td>\n      <td>{'for': 84.50121525814092}</td>\n      <td>{'use': 22.760988077071403}</td>\n      <td>{'you': 48.90835882309294}</td>\n      <td>{'think': 15.645049018787713}</td>\n    </tr>\n    <tr>\n      <th>9</th>\n      <td>{'you': 1870}</td>\n      <td>{'armenians': 314}</td>\n      <td>{'you': 82.89183206317075}</td>\n      <td>{'time': 20.852232534795434}</td>\n      <td>{'for': 45.02428709408522}</td>\n      <td>{'os': 14.225986842543938}</td>\n    </tr>\n    <tr>\n      <th>10</th>\n      <td>{'on': 1825}</td>\n      <td>{'use': 313}</td>\n      <td>{'this': 64.5446625448822}</td>\n      <td>{'dos': 20.600786271752604}</td>\n      <td>{'this': 36.53119998360545}</td>\n      <td>{'thanks': 13.702781562424326}</td>\n    </tr>\n    <tr>\n      <th>11</th>\n      <td>{'this': 1659}</td>\n      <td>{'does': 307}</td>\n      <td>{'have': 60.830065453305956}</td>\n      <td>{'good': 20.533030553887926}</td>\n      <td>{'have': 34.9709106757255}</td>\n      <td>{'israel': 13.572715158145664}</td>\n    </tr>\n    <tr>\n      <th>12</th>\n      <td>{'with': 1630}</td>\n      <td>{'israel': 304}</td>\n      <td>{'on': 57.66408502351303}</td>\n      <td>{'way': 20.393145581655908}</td>\n      <td>{'on': 33.861034197852725}</td>\n      <td>{'use': 13.491902739171277}</td>\n    </tr>\n    <tr>\n      <th>13</th>\n      <td>{'as': 1550}</td>\n      <td>{'new': 302}</td>\n      <td>{'not': 55.770336783831326}</td>\n      <td>{'thanks': 20.12425798328614}</td>\n      <td>{'are': 33.446024082297626}</td>\n      <td>{'good': 13.427650870560498}</td>\n    </tr>\n    <tr>\n      <th>14</th>\n      <td>{'was': 1516}</td>\n      <td>{'ve': 275}</td>\n      <td>{'are': 54.189676933537385}</td>\n      <td>{'ve': 20.033861107196966}</td>\n      <td>{'not': 33.381554648365984}</td>\n      <td>{'ve': 13.407031746857905}</td>\n    </tr>\n    <tr>\n      <th>15</th>\n      <td>{'have': 1515}</td>\n      <td>{'think': 267}</td>\n      <td>{'be': 50.142615228989534}</td>\n      <td>{'israel': 19.01196128715913}</td>\n      <td>{'as': 31.470663554161135}</td>\n      <td>{'way': 12.808019975593862}</td>\n    </tr>\n    <tr>\n      <th>16</th>\n      <td>{'are': 1505}</td>\n      <td>{'jews': 256}</td>\n      <td>{'with': 48.56711606297654}</td>\n      <td>{'did': 18.222145928587427}</td>\n      <td>{'be': 29.998314554593797}</td>\n      <td>{'file': 12.503178767171308}</td>\n    </tr>\n    <tr>\n      <th>17</th>\n      <td>{'not': 1498}</td>\n      <td>{'did': 255}</td>\n      <td>{'as': 47.88693934553237}</td>\n      <td>{'problem': 17.76147664514586}</td>\n      <td>{'or': 28.536178873638235}</td>\n      <td>{'time': 12.095394512813783}</td>\n    </tr>\n    <tr>\n      <th>18</th>\n      <td>{'be': 1363}</td>\n      <td>{'file': 251}</td>\n      <td>{'or': 45.1913457547514}</td>\n      <td>{'edu': 16.82916991056713}</td>\n      <td>{'with': 28.50341688678757}</td>\n      <td>{'did': 12.014543207096631}</td>\n    </tr>\n    <tr>\n      <th>19</th>\n      <td>{'by': 1356}</td>\n      <td>{'dos': 248}</td>\n      <td>{'but': 42.52231440943533}</td>\n      <td>{'file': 16.788450275905518}</td>\n      <td>{'was': 26.767637478284687}</td>\n      <td>{'jews': 11.689308836949936}</td>\n    </tr>\n  </tbody>\n</table>\n</div>"
     },
     "execution_count": 40,
     "metadata": {},
     "output_type": "execute_result"
    }
   ],
   "source": [
    "df2 = pd.DataFrame(columns=columns)\n",
    "\n",
    "df2['Count', 'Без стоп-слов'] = top_terms_without_stop_test\n",
    "df2['TF', 'Без стоп-слов'] = top_terms_tf_test\n",
    "df2['TF-IDF', 'Без стоп-слов'] = top_terms_tfidf_test\n",
    "\n",
    "df2['Count', 'С стоп-словами'] = top_terms_stop_test\n",
    "df2['TF', 'С стоп-словами'] = top_terms_stop_tf_test\n",
    "df2['TF-IDF', 'С стоп-словами'] = top_terms_stop_tfidf_test\n",
    "\n",
    "df2"
   ]
  },
  {
   "cell_type": "code",
   "execution_count": 41,
   "id": "fdd43015",
   "metadata": {
    "pycharm": {
     "name": "#%%\n"
    },
    "ExecuteTime": {
     "end_time": "2023-12-21T22:04:34.574974143Z",
     "start_time": "2023-12-21T22:04:31.536675611Z"
    }
   },
   "outputs": [
    {
     "data": {
      "text/plain": "             Count                                                TF  \\\n     Без стоп-слов      С стоп-словами                 Без стоп-слов   \n0    {'ax': 62375}       {'ax': 62375}    {'the': 560.1897256671423}   \n1   {'the': 19970}       {'max': 4475}    {'to': 309.55632785346563}   \n2    {'of': 10085}        {'wa': 2486}     {'of': 270.5795792227874}   \n3     {'to': 9555}       {'thi': 2240}    {'and': 230.1672066691976}   \n4    {'and': 8964}       {'g9v': 1166}    {'is': 206.83912663494127}   \n5     {'in': 6603}  {'armenian': 1123}    {'it': 194.11515982589904}   \n6   {'that': 5094}       {'b8f': 1111}    {'in': 184.61455318184682}   \n7     {'is': 4924}       {'use': 1099}  {'that': 162.16999219258358}   \n8     {'it': 4751}     {'peopl': 1050}    {'you': 130.2003870591387}   \n9    {'max': 4475}         {'ha': 968}    {'for': 112.4687466798475}   \n10   {'you': 3253}        {'a86': 916}   {'have': 92.91355856724644}   \n11   {'for': 3142}        {'ani': 853}    {'thi': 87.96712921511796}   \n12    {'wa': 2486}         {'pl': 827}     {'not': 87.0606290574799}   \n13    {'on': 2443}         {'hi': 776}     {'be': 84.54860028512266}   \n14  {'they': 2434}       {'know': 774}    {'are': 83.67391478147329}   \n15   {'not': 2401}        {'145': 763}   {'with': 78.79017863082785}   \n16   {'are': 2384}     {'window': 753}     {'on': 78.67203813035006}   \n17  {'have': 2373}       {'like': 748}     {'do': 76.01314596924823}   \n18  {'with': 2323}        {'1d9': 672}     {'as': 62.97672562055713}   \n19    {'be': 2315}        {'did': 669}     {'or': 61.92708146303828}   \n\n                                                            TF-IDF  \\\n                       С стоп-словами                Без стоп-слов   \n0          {'wmx': 66.67395477054924}   {'the': 227.1417118032733}   \n1          {'k80': 55.58408988539479}   {'to': 130.73030554017762}   \n2          {'iy': 52.966420982934565}   {'of': 123.98778553507317}   \n3        {'leagu': 52.62319604161889}  {'and': 103.61322213648639}   \n4           {'pe': 51.95889281516506}    {'is': 92.91087071831504}   \n5        {'dens': 49.042693087083144}    {'it': 91.60531113863544}   \n6    {'delusion': 40.575102798866936}    {'in': 88.54739363212309}   \n7   {'transcript': 39.41225512825948}  {'that': 81.40313291495075}   \n8      {'dissid': 38.150401375813914}   {'you': 75.79667340323336}   \n9          {'van': 37.00856397329775}     {'for': 59.512001531477}   \n10         {'ink': 36.02420043595104}   {'not': 51.13501904809744}   \n11       {'troop': 31.26149301016876}  {'have': 50.94162603819526}   \n12          {'tr': 29.69807388079488}   {'are': 50.57348401442877}   \n13     {'promin': 29.695653951030643}   {'thi': 49.96641406917871}   \n14     {'explos': 28.021970607799666}    {'be': 48.58518597982924}   \n15      {'fungu': 26.012999305528727}    {'do': 46.53559482357244}   \n16     {'netcom': 23.267845278129325}   {'on': 46.194892276111595}   \n17          {'d1': 22.70290879731437}  {'with': 45.50582520634126}   \n18      {'variabl': 22.4596790382321}    {'as': 41.40882330071312}   \n19          {'wet': 22.2665609714906}    {'wa': 39.77080912243045}   \n\n                                       \n                       С стоп-словами  \n0          {'wmx': 66.67395477054924}  \n1          {'k80': 55.58408988539479}  \n2          {'iy': 52.966420982934565}  \n3        {'leagu': 52.62319604161889}  \n4           {'pe': 51.95889281516506}  \n5        {'dens': 49.042693087083144}  \n6    {'delusion': 40.575102798866936}  \n7   {'transcript': 39.41225512825948}  \n8      {'dissid': 38.150401375813914}  \n9          {'van': 37.00856397329775}  \n10         {'ink': 36.02420043595104}  \n11       {'troop': 31.26149301016876}  \n12          {'tr': 29.69807388079488}  \n13     {'promin': 29.695653951030643}  \n14     {'explos': 28.021970607799666}  \n15      {'fungu': 26.012999305528727}  \n16     {'netcom': 23.267845278129325}  \n17          {'d1': 22.70290879731437}  \n18      {'variabl': 22.4596790382321}  \n19          {'wet': 22.2665609714906}  ",
      "text/html": "<div>\n<style scoped>\n    .dataframe tbody tr th:only-of-type {\n        vertical-align: middle;\n    }\n\n    .dataframe tbody tr th {\n        vertical-align: top;\n    }\n\n    .dataframe thead tr th {\n        text-align: left;\n    }\n</style>\n<table border=\"1\" class=\"dataframe\">\n  <thead>\n    <tr>\n      <th></th>\n      <th colspan=\"2\" halign=\"left\">Count</th>\n      <th colspan=\"2\" halign=\"left\">TF</th>\n      <th colspan=\"2\" halign=\"left\">TF-IDF</th>\n    </tr>\n    <tr>\n      <th></th>\n      <th>Без стоп-слов</th>\n      <th>С стоп-словами</th>\n      <th>Без стоп-слов</th>\n      <th>С стоп-словами</th>\n      <th>Без стоп-слов</th>\n      <th>С стоп-словами</th>\n    </tr>\n  </thead>\n  <tbody>\n    <tr>\n      <th>0</th>\n      <td>{'ax': 62375}</td>\n      <td>{'ax': 62375}</td>\n      <td>{'the': 560.1897256671423}</td>\n      <td>{'wmx': 66.67395477054924}</td>\n      <td>{'the': 227.1417118032733}</td>\n      <td>{'wmx': 66.67395477054924}</td>\n    </tr>\n    <tr>\n      <th>1</th>\n      <td>{'the': 19970}</td>\n      <td>{'max': 4475}</td>\n      <td>{'to': 309.55632785346563}</td>\n      <td>{'k80': 55.58408988539479}</td>\n      <td>{'to': 130.73030554017762}</td>\n      <td>{'k80': 55.58408988539479}</td>\n    </tr>\n    <tr>\n      <th>2</th>\n      <td>{'of': 10085}</td>\n      <td>{'wa': 2486}</td>\n      <td>{'of': 270.5795792227874}</td>\n      <td>{'iy': 52.966420982934565}</td>\n      <td>{'of': 123.98778553507317}</td>\n      <td>{'iy': 52.966420982934565}</td>\n    </tr>\n    <tr>\n      <th>3</th>\n      <td>{'to': 9555}</td>\n      <td>{'thi': 2240}</td>\n      <td>{'and': 230.1672066691976}</td>\n      <td>{'leagu': 52.62319604161889}</td>\n      <td>{'and': 103.61322213648639}</td>\n      <td>{'leagu': 52.62319604161889}</td>\n    </tr>\n    <tr>\n      <th>4</th>\n      <td>{'and': 8964}</td>\n      <td>{'g9v': 1166}</td>\n      <td>{'is': 206.83912663494127}</td>\n      <td>{'pe': 51.95889281516506}</td>\n      <td>{'is': 92.91087071831504}</td>\n      <td>{'pe': 51.95889281516506}</td>\n    </tr>\n    <tr>\n      <th>5</th>\n      <td>{'in': 6603}</td>\n      <td>{'armenian': 1123}</td>\n      <td>{'it': 194.11515982589904}</td>\n      <td>{'dens': 49.042693087083144}</td>\n      <td>{'it': 91.60531113863544}</td>\n      <td>{'dens': 49.042693087083144}</td>\n    </tr>\n    <tr>\n      <th>6</th>\n      <td>{'that': 5094}</td>\n      <td>{'b8f': 1111}</td>\n      <td>{'in': 184.61455318184682}</td>\n      <td>{'delusion': 40.575102798866936}</td>\n      <td>{'in': 88.54739363212309}</td>\n      <td>{'delusion': 40.575102798866936}</td>\n    </tr>\n    <tr>\n      <th>7</th>\n      <td>{'is': 4924}</td>\n      <td>{'use': 1099}</td>\n      <td>{'that': 162.16999219258358}</td>\n      <td>{'transcript': 39.41225512825948}</td>\n      <td>{'that': 81.40313291495075}</td>\n      <td>{'transcript': 39.41225512825948}</td>\n    </tr>\n    <tr>\n      <th>8</th>\n      <td>{'it': 4751}</td>\n      <td>{'peopl': 1050}</td>\n      <td>{'you': 130.2003870591387}</td>\n      <td>{'dissid': 38.150401375813914}</td>\n      <td>{'you': 75.79667340323336}</td>\n      <td>{'dissid': 38.150401375813914}</td>\n    </tr>\n    <tr>\n      <th>9</th>\n      <td>{'max': 4475}</td>\n      <td>{'ha': 968}</td>\n      <td>{'for': 112.4687466798475}</td>\n      <td>{'van': 37.00856397329775}</td>\n      <td>{'for': 59.512001531477}</td>\n      <td>{'van': 37.00856397329775}</td>\n    </tr>\n    <tr>\n      <th>10</th>\n      <td>{'you': 3253}</td>\n      <td>{'a86': 916}</td>\n      <td>{'have': 92.91355856724644}</td>\n      <td>{'ink': 36.02420043595104}</td>\n      <td>{'not': 51.13501904809744}</td>\n      <td>{'ink': 36.02420043595104}</td>\n    </tr>\n    <tr>\n      <th>11</th>\n      <td>{'for': 3142}</td>\n      <td>{'ani': 853}</td>\n      <td>{'thi': 87.96712921511796}</td>\n      <td>{'troop': 31.26149301016876}</td>\n      <td>{'have': 50.94162603819526}</td>\n      <td>{'troop': 31.26149301016876}</td>\n    </tr>\n    <tr>\n      <th>12</th>\n      <td>{'wa': 2486}</td>\n      <td>{'pl': 827}</td>\n      <td>{'not': 87.0606290574799}</td>\n      <td>{'tr': 29.69807388079488}</td>\n      <td>{'are': 50.57348401442877}</td>\n      <td>{'tr': 29.69807388079488}</td>\n    </tr>\n    <tr>\n      <th>13</th>\n      <td>{'on': 2443}</td>\n      <td>{'hi': 776}</td>\n      <td>{'be': 84.54860028512266}</td>\n      <td>{'promin': 29.695653951030643}</td>\n      <td>{'thi': 49.96641406917871}</td>\n      <td>{'promin': 29.695653951030643}</td>\n    </tr>\n    <tr>\n      <th>14</th>\n      <td>{'they': 2434}</td>\n      <td>{'know': 774}</td>\n      <td>{'are': 83.67391478147329}</td>\n      <td>{'explos': 28.021970607799666}</td>\n      <td>{'be': 48.58518597982924}</td>\n      <td>{'explos': 28.021970607799666}</td>\n    </tr>\n    <tr>\n      <th>15</th>\n      <td>{'not': 2401}</td>\n      <td>{'145': 763}</td>\n      <td>{'with': 78.79017863082785}</td>\n      <td>{'fungu': 26.012999305528727}</td>\n      <td>{'do': 46.53559482357244}</td>\n      <td>{'fungu': 26.012999305528727}</td>\n    </tr>\n    <tr>\n      <th>16</th>\n      <td>{'are': 2384}</td>\n      <td>{'window': 753}</td>\n      <td>{'on': 78.67203813035006}</td>\n      <td>{'netcom': 23.267845278129325}</td>\n      <td>{'on': 46.194892276111595}</td>\n      <td>{'netcom': 23.267845278129325}</td>\n    </tr>\n    <tr>\n      <th>17</th>\n      <td>{'have': 2373}</td>\n      <td>{'like': 748}</td>\n      <td>{'do': 76.01314596924823}</td>\n      <td>{'d1': 22.70290879731437}</td>\n      <td>{'with': 45.50582520634126}</td>\n      <td>{'d1': 22.70290879731437}</td>\n    </tr>\n    <tr>\n      <th>18</th>\n      <td>{'with': 2323}</td>\n      <td>{'1d9': 672}</td>\n      <td>{'as': 62.97672562055713}</td>\n      <td>{'variabl': 22.4596790382321}</td>\n      <td>{'as': 41.40882330071312}</td>\n      <td>{'variabl': 22.4596790382321}</td>\n    </tr>\n    <tr>\n      <th>19</th>\n      <td>{'be': 2315}</td>\n      <td>{'did': 669}</td>\n      <td>{'or': 61.92708146303828}</td>\n      <td>{'wet': 22.2665609714906}</td>\n      <td>{'wa': 39.77080912243045}</td>\n      <td>{'wet': 22.2665609714906}</td>\n    </tr>\n  </tbody>\n</table>\n</div>"
     },
     "execution_count": 41,
     "metadata": {},
     "output_type": "execute_result"
    }
   ],
   "source": [
    "df3 = pd.DataFrame(columns=columns)\n",
    "\n",
    "df3['Count', 'Без стоп-слов'] = top_terms_stem\n",
    "df3['TF', 'Без стоп-слов'] = top_terms_stem_tf\n",
    "df3['TF-IDF', 'Без стоп-слов'] = top_terms_stem_tfidf\n",
    "\n",
    "df3['Count', 'С стоп-словами'] = top_terms_stop_stem\n",
    "df3['TF', 'С стоп-словами'] = top_terms_stem_stop_tf\n",
    "df3['TF-IDF', 'С стоп-словами'] = top_terms_stem_stop_tfidf\n",
    "\n",
    "df3"
   ]
  },
  {
   "cell_type": "code",
   "execution_count": 42,
   "id": "90d00b31",
   "metadata": {
    "pycharm": {
     "name": "#%%\n"
    },
    "ExecuteTime": {
     "end_time": "2023-12-21T22:04:34.578887546Z",
     "start_time": "2023-12-21T22:04:31.563096564Z"
    }
   },
   "outputs": [
    {
     "data": {
      "text/plain": "             Count                                               TF  \\\n     Без стоп-слов     С стоп-словами                 Без стоп-слов   \n0   {'the': 14539}      {'thi': 1659}   {'the': 374.24241916658707}   \n1     {'of': 7431}       {'wa': 1550}    {'to': 220.49116629557315}   \n2     {'to': 6719}       {'use': 740}    {'of': 186.69561702716828}   \n3    {'and': 6387}        {'ha': 734}    {'and': 164.7050985151655}   \n4     {'in': 4808}  {'armenian': 706}    {'is': 133.37237843660867}   \n5   {'that': 3281}     {'peopl': 606}    {'in': 125.28657808406516}   \n6     {'is': 3260}    {'window': 561}    {'it': 113.48811048113814}   \n7     {'it': 2850}       {'ani': 530}   {'that': 113.0706694958328}   \n8    {'for': 2385}      {'like': 506}    {'for': 82.20410445217483}   \n9    {'you': 1869}      {'know': 442}    {'you': 80.82963860996323}   \n10    {'on': 1826}        {'hi': 436}   {'have': 64.73556820414848}   \n11   {'thi': 1659}      {'time': 432}   {'thi': 62.898150668654125}   \n12  {'have': 1641}      {'just': 410}    {'do': 62.888641041635644}   \n13  {'with': 1630}      {'file': 391}    {'not': 56.45083238880808}   \n14    {'be': 1560}       {'doe': 388}     {'on': 56.14430084152182}   \n15   {'not': 1556}    {'muslim': 376}    {'be': 55.086139536824746}   \n16    {'wa': 1550}       {'did': 375}    {'are': 54.48371305785515}   \n17    {'as': 1546}      {'onli': 357}  {'with': 47.234218633469744}   \n18   {'are': 1537}      {'year': 355}     {'as': 46.44895774484429}   \n19    {'do': 1355}      {'said': 354}     {'or': 44.04479480116089}   \n\n                                                              TF-IDF  \\\n                        С стоп-словами                 Без стоп-слов   \n0          {'wmx': 49.928307001405756}   {'the': 155.17937196886095}   \n1        {'leagu': 39.428873407818834}     {'to': 94.62983334647986}   \n2          {'dens': 37.81290632375341}      {'of': 86.6786435883915}   \n3           {'pe': 37.776238966326034}    {'and': 75.05980035123291}   \n4            {'k80': 36.1173101578041}     {'in': 61.25732116324329}   \n5            {'iy': 35.86977122072824}     {'is': 60.47443793184465}   \n6     {'delusion': 30.415585871642556}   {'that': 57.56681854087221}   \n7    {'transcript': 26.82596604853647}    {'it': 53.887881597239605}   \n8          {'van': 22.760988077071403}    {'you': 48.53260429506063}   \n9        {'troop': 20.852232534795434}    {'for': 44.42326699464681}   \n10     {'depress': 20.600786271752604}    {'do': 39.206613260817264}   \n11       {'fungu': 20.533030553887926}   {'have': 36.45202385352554}   \n12  {'widespread': 20.393145581655908}   {'thi': 36.140426758521855}   \n13           {'tr': 20.12425798328614}    {'not': 33.85327299216085}   \n14       {'virtu': 20.033861107196966}    {'are': 33.68305411470661}   \n15          {'ink': 19.01196128715913}    {'on': 33.305383486442175}   \n16          {'d1': 18.222145928587427}     {'be': 32.42981012200503}   \n17       {'promin': 17.76147664514586}    {'as': 31.091460789605534}   \n18       {'dissid': 16.82916991056713}    {'or': 28.326119993701457}   \n19      {'explos': 16.788450275905518}  {'with': 27.992601514584756}   \n\n                                        \n                        С стоп-словами  \n0          {'wmx': 49.928307001405756}  \n1        {'leagu': 39.428873407818834}  \n2          {'dens': 37.81290632375341}  \n3           {'pe': 37.776238966326034}  \n4            {'k80': 36.1173101578041}  \n5            {'iy': 35.86977122072824}  \n6     {'delusion': 30.415585871642556}  \n7    {'transcript': 26.82596604853647}  \n8          {'van': 22.760988077071403}  \n9        {'troop': 20.852232534795434}  \n10     {'depress': 20.600786271752604}  \n11       {'fungu': 20.533030553887926}  \n12  {'widespread': 20.393145581655908}  \n13           {'tr': 20.12425798328614}  \n14       {'virtu': 20.033861107196966}  \n15          {'ink': 19.01196128715913}  \n16          {'d1': 18.222145928587427}  \n17       {'promin': 17.76147664514586}  \n18       {'dissid': 16.82916991056713}  \n19      {'explos': 16.788450275905518}  ",
      "text/html": "<div>\n<style scoped>\n    .dataframe tbody tr th:only-of-type {\n        vertical-align: middle;\n    }\n\n    .dataframe tbody tr th {\n        vertical-align: top;\n    }\n\n    .dataframe thead tr th {\n        text-align: left;\n    }\n</style>\n<table border=\"1\" class=\"dataframe\">\n  <thead>\n    <tr>\n      <th></th>\n      <th colspan=\"2\" halign=\"left\">Count</th>\n      <th colspan=\"2\" halign=\"left\">TF</th>\n      <th colspan=\"2\" halign=\"left\">TF-IDF</th>\n    </tr>\n    <tr>\n      <th></th>\n      <th>Без стоп-слов</th>\n      <th>С стоп-словами</th>\n      <th>Без стоп-слов</th>\n      <th>С стоп-словами</th>\n      <th>Без стоп-слов</th>\n      <th>С стоп-словами</th>\n    </tr>\n  </thead>\n  <tbody>\n    <tr>\n      <th>0</th>\n      <td>{'the': 14539}</td>\n      <td>{'thi': 1659}</td>\n      <td>{'the': 374.24241916658707}</td>\n      <td>{'wmx': 49.928307001405756}</td>\n      <td>{'the': 155.17937196886095}</td>\n      <td>{'wmx': 49.928307001405756}</td>\n    </tr>\n    <tr>\n      <th>1</th>\n      <td>{'of': 7431}</td>\n      <td>{'wa': 1550}</td>\n      <td>{'to': 220.49116629557315}</td>\n      <td>{'leagu': 39.428873407818834}</td>\n      <td>{'to': 94.62983334647986}</td>\n      <td>{'leagu': 39.428873407818834}</td>\n    </tr>\n    <tr>\n      <th>2</th>\n      <td>{'to': 6719}</td>\n      <td>{'use': 740}</td>\n      <td>{'of': 186.69561702716828}</td>\n      <td>{'dens': 37.81290632375341}</td>\n      <td>{'of': 86.6786435883915}</td>\n      <td>{'dens': 37.81290632375341}</td>\n    </tr>\n    <tr>\n      <th>3</th>\n      <td>{'and': 6387}</td>\n      <td>{'ha': 734}</td>\n      <td>{'and': 164.7050985151655}</td>\n      <td>{'pe': 37.776238966326034}</td>\n      <td>{'and': 75.05980035123291}</td>\n      <td>{'pe': 37.776238966326034}</td>\n    </tr>\n    <tr>\n      <th>4</th>\n      <td>{'in': 4808}</td>\n      <td>{'armenian': 706}</td>\n      <td>{'is': 133.37237843660867}</td>\n      <td>{'k80': 36.1173101578041}</td>\n      <td>{'in': 61.25732116324329}</td>\n      <td>{'k80': 36.1173101578041}</td>\n    </tr>\n    <tr>\n      <th>5</th>\n      <td>{'that': 3281}</td>\n      <td>{'peopl': 606}</td>\n      <td>{'in': 125.28657808406516}</td>\n      <td>{'iy': 35.86977122072824}</td>\n      <td>{'is': 60.47443793184465}</td>\n      <td>{'iy': 35.86977122072824}</td>\n    </tr>\n    <tr>\n      <th>6</th>\n      <td>{'is': 3260}</td>\n      <td>{'window': 561}</td>\n      <td>{'it': 113.48811048113814}</td>\n      <td>{'delusion': 30.415585871642556}</td>\n      <td>{'that': 57.56681854087221}</td>\n      <td>{'delusion': 30.415585871642556}</td>\n    </tr>\n    <tr>\n      <th>7</th>\n      <td>{'it': 2850}</td>\n      <td>{'ani': 530}</td>\n      <td>{'that': 113.0706694958328}</td>\n      <td>{'transcript': 26.82596604853647}</td>\n      <td>{'it': 53.887881597239605}</td>\n      <td>{'transcript': 26.82596604853647}</td>\n    </tr>\n    <tr>\n      <th>8</th>\n      <td>{'for': 2385}</td>\n      <td>{'like': 506}</td>\n      <td>{'for': 82.20410445217483}</td>\n      <td>{'van': 22.760988077071403}</td>\n      <td>{'you': 48.53260429506063}</td>\n      <td>{'van': 22.760988077071403}</td>\n    </tr>\n    <tr>\n      <th>9</th>\n      <td>{'you': 1869}</td>\n      <td>{'know': 442}</td>\n      <td>{'you': 80.82963860996323}</td>\n      <td>{'troop': 20.852232534795434}</td>\n      <td>{'for': 44.42326699464681}</td>\n      <td>{'troop': 20.852232534795434}</td>\n    </tr>\n    <tr>\n      <th>10</th>\n      <td>{'on': 1826}</td>\n      <td>{'hi': 436}</td>\n      <td>{'have': 64.73556820414848}</td>\n      <td>{'depress': 20.600786271752604}</td>\n      <td>{'do': 39.206613260817264}</td>\n      <td>{'depress': 20.600786271752604}</td>\n    </tr>\n    <tr>\n      <th>11</th>\n      <td>{'thi': 1659}</td>\n      <td>{'time': 432}</td>\n      <td>{'thi': 62.898150668654125}</td>\n      <td>{'fungu': 20.533030553887926}</td>\n      <td>{'have': 36.45202385352554}</td>\n      <td>{'fungu': 20.533030553887926}</td>\n    </tr>\n    <tr>\n      <th>12</th>\n      <td>{'have': 1641}</td>\n      <td>{'just': 410}</td>\n      <td>{'do': 62.888641041635644}</td>\n      <td>{'widespread': 20.393145581655908}</td>\n      <td>{'thi': 36.140426758521855}</td>\n      <td>{'widespread': 20.393145581655908}</td>\n    </tr>\n    <tr>\n      <th>13</th>\n      <td>{'with': 1630}</td>\n      <td>{'file': 391}</td>\n      <td>{'not': 56.45083238880808}</td>\n      <td>{'tr': 20.12425798328614}</td>\n      <td>{'not': 33.85327299216085}</td>\n      <td>{'tr': 20.12425798328614}</td>\n    </tr>\n    <tr>\n      <th>14</th>\n      <td>{'be': 1560}</td>\n      <td>{'doe': 388}</td>\n      <td>{'on': 56.14430084152182}</td>\n      <td>{'virtu': 20.033861107196966}</td>\n      <td>{'are': 33.68305411470661}</td>\n      <td>{'virtu': 20.033861107196966}</td>\n    </tr>\n    <tr>\n      <th>15</th>\n      <td>{'not': 1556}</td>\n      <td>{'muslim': 376}</td>\n      <td>{'be': 55.086139536824746}</td>\n      <td>{'ink': 19.01196128715913}</td>\n      <td>{'on': 33.305383486442175}</td>\n      <td>{'ink': 19.01196128715913}</td>\n    </tr>\n    <tr>\n      <th>16</th>\n      <td>{'wa': 1550}</td>\n      <td>{'did': 375}</td>\n      <td>{'are': 54.48371305785515}</td>\n      <td>{'d1': 18.222145928587427}</td>\n      <td>{'be': 32.42981012200503}</td>\n      <td>{'d1': 18.222145928587427}</td>\n    </tr>\n    <tr>\n      <th>17</th>\n      <td>{'as': 1546}</td>\n      <td>{'onli': 357}</td>\n      <td>{'with': 47.234218633469744}</td>\n      <td>{'promin': 17.76147664514586}</td>\n      <td>{'as': 31.091460789605534}</td>\n      <td>{'promin': 17.76147664514586}</td>\n    </tr>\n    <tr>\n      <th>18</th>\n      <td>{'are': 1537}</td>\n      <td>{'year': 355}</td>\n      <td>{'as': 46.44895774484429}</td>\n      <td>{'dissid': 16.82916991056713}</td>\n      <td>{'or': 28.326119993701457}</td>\n      <td>{'dissid': 16.82916991056713}</td>\n    </tr>\n    <tr>\n      <th>19</th>\n      <td>{'do': 1355}</td>\n      <td>{'said': 354}</td>\n      <td>{'or': 44.04479480116089}</td>\n      <td>{'explos': 16.788450275905518}</td>\n      <td>{'with': 27.992601514584756}</td>\n      <td>{'explos': 16.788450275905518}</td>\n    </tr>\n  </tbody>\n</table>\n</div>"
     },
     "execution_count": 42,
     "metadata": {},
     "output_type": "execute_result"
    }
   ],
   "source": [
    "df4 = pd.DataFrame(columns=columns)\n",
    "\n",
    "df4['Count', 'Без стоп-слов'] = top_terms_stem_test\n",
    "df4['TF', 'Без стоп-слов'] = top_terms_stem_tf_test\n",
    "df4['TF-IDF', 'Без стоп-слов'] = top_terms_stem_tfidf_test\n",
    "\n",
    "df4['Count', 'С стоп-словами'] = top_terms_stop_stem_test\n",
    "df4['TF', 'С стоп-словами'] = top_terms_stem_stop_tf_test\n",
    "df4['TF-IDF', 'С стоп-словами'] = top_terms_stem_stop_tfidf_test\n",
    "\n",
    "df4"
   ]
  },
  {
   "cell_type": "code",
   "execution_count": 43,
   "id": "ed81e668",
   "metadata": {
    "pycharm": {
     "name": "#%%\n"
    },
    "ExecuteTime": {
     "end_time": "2023-12-21T22:04:34.580949147Z",
     "start_time": "2023-12-21T22:04:31.610235493Z"
    }
   },
   "outputs": [],
   "source": [
    "import openpyxl"
   ]
  },
  {
   "cell_type": "code",
   "execution_count": 44,
   "id": "ceff0f2a",
   "metadata": {
    "pycharm": {
     "name": "#%%\n"
    },
    "ExecuteTime": {
     "end_time": "2023-12-21T22:04:34.587270137Z",
     "start_time": "2023-12-21T22:04:31.683973188Z"
    }
   },
   "outputs": [],
   "source": [
    "writer = pd.ExcelWriter('result.xlsx', engine='openpyxl')\n",
    "\n",
    "df1.to_excel(writer, sheet_name='Train, wo stem')\n",
    "df2.to_excel(writer, sheet_name='Test, wo stem')\n",
    "df3.to_excel(writer, sheet_name='Train, with stem')\n",
    "df4.to_excel(writer, sheet_name='Test, with stem')\n",
    "\n",
    "writer.close()"
   ]
  },
  {
   "cell_type": "code",
   "execution_count": 45,
   "id": "c6843061",
   "metadata": {
    "pycharm": {
     "name": "#%%\n"
    },
    "ExecuteTime": {
     "end_time": "2023-12-21T22:04:34.589170129Z",
     "start_time": "2023-12-21T22:04:31.729701911Z"
    }
   },
   "outputs": [],
   "source": [
    "from sklearn.metrics import classification_report\n",
    "from sklearn.naive_bayes import MultinomialNB"
   ]
  },
  {
   "cell_type": "code",
   "execution_count": 46,
   "id": "aede3418",
   "metadata": {
    "pycharm": {
     "name": "#%%\n"
    },
    "ExecuteTime": {
     "end_time": "2023-12-21T22:04:34.591110767Z",
     "start_time": "2023-12-21T22:04:31.730072621Z"
    }
   },
   "outputs": [],
   "source": [
    "stop_words = [None, 'english']\n",
    "max_features_values = [100, 500, 1000, 2000, 3000, 4000, 5000]\n",
    "use_tf = [True, False]\n",
    "use_idf = [True, False]"
   ]
  },
  {
   "cell_type": "code",
   "execution_count": 47,
   "id": "61f995ac",
   "metadata": {
    "pycharm": {
     "name": "#%%\n"
    },
    "ExecuteTime": {
     "end_time": "2023-12-21T22:04:34.593714604Z",
     "start_time": "2023-12-21T22:04:31.773787095Z"
    }
   },
   "outputs": [],
   "source": [
    "def prepare(data, max_feature, stop_word, use_tf, use_idf):\n",
    "    tf = None\n",
    "    cv = CountVectorizer(max_features=max_feature, stop_words=stop_word)\n",
    "    cv.fit(data)\n",
    "    if use_tf:\n",
    "        tf = TfidfTransformer(use_idf=use_idf)\n",
    "        tf.fit(cv.transform(data))\n",
    "    return cv, tf"
   ]
  },
  {
   "cell_type": "code",
   "execution_count": 48,
   "id": "10d5c93e",
   "metadata": {
    "pycharm": {
     "name": "#%%\n"
    },
    "ExecuteTime": {
     "end_time": "2023-12-21T22:05:19.180008391Z",
     "start_time": "2023-12-21T22:04:31.774485284Z"
    }
   },
   "outputs": [],
   "source": [
    "result = []\n",
    "\n",
    "for max_features_value in max_features_values:\n",
    "    for stop_word in stop_words:\n",
    "        for ut in use_tf:\n",
    "            for ui in use_idf:\n",
    "                options = {}\n",
    "                cv, tf = prepare(twenty_train_full.data, max_features_value, stop_word, ut, ui)\n",
    "                if tf:\n",
    "                    clf = MultinomialNB()\n",
    "                    clf.fit(tf.transform(cv.transform(twenty_train_full.data)), twenty_train_full.target)\n",
    "                    prep_test = tf.transform(cv.transform(twenty_test_full.data))\n",
    "                else:\n",
    "                    clf = MultinomialNB()\n",
    "                    clf.fit(cv.transform(twenty_train_full.data), twenty_train_full.target)\n",
    "                    prep_test = cv.transform(twenty_test_full.data)\n",
    "\n",
    "                options['features'] = max_features_value\n",
    "                options['stop_words'] = stop_word\n",
    "                options['use_tf'] = ut\n",
    "                options['use_idf'] = ui\n",
    "\n",
    "                result_data = classification_report(clf.predict(prep_test), twenty_test_full.target, output_dict=True)\n",
    "                result_df = pd.DataFrame(result_data)\n",
    "                result.append({\n",
    "                    'df': result_df,\n",
    "                    'options': options\n",
    "                })"
   ]
  },
  {
   "cell_type": "code",
   "execution_count": 49,
   "id": "014351f1",
   "metadata": {
    "pycharm": {
     "name": "#%%\n"
    },
    "ExecuteTime": {
     "end_time": "2023-12-21T22:05:19.318286787Z",
     "start_time": "2023-12-21T22:05:19.217701348Z"
    }
   },
   "outputs": [],
   "source": [
    "writer = pd.ExcelWriter('result_compare.xlsx', engine='openpyxl')\n",
    "\n",
    "df = pd.DataFrame(columns=['Номер страницы', 'features', 'stop_words', 'use_tf', 'use_idf'])\n",
    "for it, item in enumerate(result):\n",
    "    for key, value in item['options'].items():\n",
    "        df.at[it, key] = value\n",
    "    df.at[it, 'Номер страницы'] = it\n",
    "\n",
    "df.to_excel(writer, sheet_name='Оглавление')\n",
    "\n",
    "for it, item in enumerate(result):\n",
    "    df_new = pd.DataFrame(item['df'])\n",
    "    df_new.to_excel(writer, sheet_name=f'Страница {it}')\n",
    "\n",
    "writer.close()"
   ]
  },
  {
   "cell_type": "code",
   "execution_count": 50,
   "id": "75ca7bd1",
   "metadata": {
    "pycharm": {
     "name": "#%%\n"
    },
    "ExecuteTime": {
     "end_time": "2023-12-21T22:05:19.367649205Z",
     "start_time": "2023-12-21T22:05:19.319531542Z"
    }
   },
   "outputs": [],
   "source": [
    "from sklearn.pipeline import Pipeline\n",
    "\n",
    "parameters = {\n",
    "    'vect__max_features': max_features_values,\n",
    "    'vect__stop_words': stop_words,\n",
    "    'tfidf__use_idf': use_idf\n",
    "}\n",
    "\n",
    "text_clf = Pipeline([('vect', CountVectorizer()),\n",
    "                     ('tfidf', TfidfTransformer()),\n",
    "                     ('clf', MultinomialNB())])"
   ]
  },
  {
   "cell_type": "code",
   "execution_count": 51,
   "id": "f1c3b4c4",
   "metadata": {
    "pycharm": {
     "name": "#%%\n"
    },
    "ExecuteTime": {
     "end_time": "2023-12-21T22:06:03.524140586Z",
     "start_time": "2023-12-21T22:05:19.365670434Z"
    }
   },
   "outputs": [
    {
     "data": {
      "text/plain": "GridSearchCV(estimator=Pipeline(steps=[('vect', CountVectorizer()),\n                                       ('tfidf', TfidfTransformer()),\n                                       ('clf', MultinomialNB())]),\n             param_grid={'tfidf__use_idf': [True, False],\n                         'vect__max_features': [100, 500, 1000, 2000, 3000,\n                                                4000, 5000],\n                         'vect__stop_words': [None, 'english']})",
      "text/html": "<style>#sk-container-id-1 {color: black;}#sk-container-id-1 pre{padding: 0;}#sk-container-id-1 div.sk-toggleable {background-color: white;}#sk-container-id-1 label.sk-toggleable__label {cursor: pointer;display: block;width: 100%;margin-bottom: 0;padding: 0.3em;box-sizing: border-box;text-align: center;}#sk-container-id-1 label.sk-toggleable__label-arrow:before {content: \"▸\";float: left;margin-right: 0.25em;color: #696969;}#sk-container-id-1 label.sk-toggleable__label-arrow:hover:before {color: black;}#sk-container-id-1 div.sk-estimator:hover label.sk-toggleable__label-arrow:before {color: black;}#sk-container-id-1 div.sk-toggleable__content {max-height: 0;max-width: 0;overflow: hidden;text-align: left;background-color: #f0f8ff;}#sk-container-id-1 div.sk-toggleable__content pre {margin: 0.2em;color: black;border-radius: 0.25em;background-color: #f0f8ff;}#sk-container-id-1 input.sk-toggleable__control:checked~div.sk-toggleable__content {max-height: 200px;max-width: 100%;overflow: auto;}#sk-container-id-1 input.sk-toggleable__control:checked~label.sk-toggleable__label-arrow:before {content: \"▾\";}#sk-container-id-1 div.sk-estimator input.sk-toggleable__control:checked~label.sk-toggleable__label {background-color: #d4ebff;}#sk-container-id-1 div.sk-label input.sk-toggleable__control:checked~label.sk-toggleable__label {background-color: #d4ebff;}#sk-container-id-1 input.sk-hidden--visually {border: 0;clip: rect(1px 1px 1px 1px);clip: rect(1px, 1px, 1px, 1px);height: 1px;margin: -1px;overflow: hidden;padding: 0;position: absolute;width: 1px;}#sk-container-id-1 div.sk-estimator {font-family: monospace;background-color: #f0f8ff;border: 1px dotted black;border-radius: 0.25em;box-sizing: border-box;margin-bottom: 0.5em;}#sk-container-id-1 div.sk-estimator:hover {background-color: #d4ebff;}#sk-container-id-1 div.sk-parallel-item::after {content: \"\";width: 100%;border-bottom: 1px solid gray;flex-grow: 1;}#sk-container-id-1 div.sk-label:hover label.sk-toggleable__label {background-color: #d4ebff;}#sk-container-id-1 div.sk-serial::before {content: \"\";position: absolute;border-left: 1px solid gray;box-sizing: border-box;top: 0;bottom: 0;left: 50%;z-index: 0;}#sk-container-id-1 div.sk-serial {display: flex;flex-direction: column;align-items: center;background-color: white;padding-right: 0.2em;padding-left: 0.2em;position: relative;}#sk-container-id-1 div.sk-item {position: relative;z-index: 1;}#sk-container-id-1 div.sk-parallel {display: flex;align-items: stretch;justify-content: center;background-color: white;position: relative;}#sk-container-id-1 div.sk-item::before, #sk-container-id-1 div.sk-parallel-item::before {content: \"\";position: absolute;border-left: 1px solid gray;box-sizing: border-box;top: 0;bottom: 0;left: 50%;z-index: -1;}#sk-container-id-1 div.sk-parallel-item {display: flex;flex-direction: column;z-index: 1;position: relative;background-color: white;}#sk-container-id-1 div.sk-parallel-item:first-child::after {align-self: flex-end;width: 50%;}#sk-container-id-1 div.sk-parallel-item:last-child::after {align-self: flex-start;width: 50%;}#sk-container-id-1 div.sk-parallel-item:only-child::after {width: 0;}#sk-container-id-1 div.sk-dashed-wrapped {border: 1px dashed gray;margin: 0 0.4em 0.5em 0.4em;box-sizing: border-box;padding-bottom: 0.4em;background-color: white;}#sk-container-id-1 div.sk-label label {font-family: monospace;font-weight: bold;display: inline-block;line-height: 1.2em;}#sk-container-id-1 div.sk-label-container {text-align: center;}#sk-container-id-1 div.sk-container {/* jupyter's `normalize.less` sets `[hidden] { display: none; }` but bootstrap.min.css set `[hidden] { display: none !important; }` so we also need the `!important` here to be able to override the default hidden behavior on the sphinx rendered scikit-learn.org. See: https://github.com/scikit-learn/scikit-learn/issues/21755 */display: inline-block !important;position: relative;}#sk-container-id-1 div.sk-text-repr-fallback {display: none;}</style><div id=\"sk-container-id-1\" class=\"sk-top-container\"><div class=\"sk-text-repr-fallback\"><pre>GridSearchCV(estimator=Pipeline(steps=[(&#x27;vect&#x27;, CountVectorizer()),\n                                       (&#x27;tfidf&#x27;, TfidfTransformer()),\n                                       (&#x27;clf&#x27;, MultinomialNB())]),\n             param_grid={&#x27;tfidf__use_idf&#x27;: [True, False],\n                         &#x27;vect__max_features&#x27;: [100, 500, 1000, 2000, 3000,\n                                                4000, 5000],\n                         &#x27;vect__stop_words&#x27;: [None, &#x27;english&#x27;]})</pre><b>In a Jupyter environment, please rerun this cell to show the HTML representation or trust the notebook. <br />On GitHub, the HTML representation is unable to render, please try loading this page with nbviewer.org.</b></div><div class=\"sk-container\" hidden><div class=\"sk-item sk-dashed-wrapped\"><div class=\"sk-label-container\"><div class=\"sk-label sk-toggleable\"><input class=\"sk-toggleable__control sk-hidden--visually\" id=\"sk-estimator-id-1\" type=\"checkbox\" ><label for=\"sk-estimator-id-1\" class=\"sk-toggleable__label sk-toggleable__label-arrow\">GridSearchCV</label><div class=\"sk-toggleable__content\"><pre>GridSearchCV(estimator=Pipeline(steps=[(&#x27;vect&#x27;, CountVectorizer()),\n                                       (&#x27;tfidf&#x27;, TfidfTransformer()),\n                                       (&#x27;clf&#x27;, MultinomialNB())]),\n             param_grid={&#x27;tfidf__use_idf&#x27;: [True, False],\n                         &#x27;vect__max_features&#x27;: [100, 500, 1000, 2000, 3000,\n                                                4000, 5000],\n                         &#x27;vect__stop_words&#x27;: [None, &#x27;english&#x27;]})</pre></div></div></div><div class=\"sk-parallel\"><div class=\"sk-parallel-item\"><div class=\"sk-item\"><div class=\"sk-label-container\"><div class=\"sk-label sk-toggleable\"><input class=\"sk-toggleable__control sk-hidden--visually\" id=\"sk-estimator-id-2\" type=\"checkbox\" ><label for=\"sk-estimator-id-2\" class=\"sk-toggleable__label sk-toggleable__label-arrow\">estimator: Pipeline</label><div class=\"sk-toggleable__content\"><pre>Pipeline(steps=[(&#x27;vect&#x27;, CountVectorizer()), (&#x27;tfidf&#x27;, TfidfTransformer()),\n                (&#x27;clf&#x27;, MultinomialNB())])</pre></div></div></div><div class=\"sk-serial\"><div class=\"sk-item\"><div class=\"sk-serial\"><div class=\"sk-item\"><div class=\"sk-estimator sk-toggleable\"><input class=\"sk-toggleable__control sk-hidden--visually\" id=\"sk-estimator-id-3\" type=\"checkbox\" ><label for=\"sk-estimator-id-3\" class=\"sk-toggleable__label sk-toggleable__label-arrow\">CountVectorizer</label><div class=\"sk-toggleable__content\"><pre>CountVectorizer()</pre></div></div></div><div class=\"sk-item\"><div class=\"sk-estimator sk-toggleable\"><input class=\"sk-toggleable__control sk-hidden--visually\" id=\"sk-estimator-id-4\" type=\"checkbox\" ><label for=\"sk-estimator-id-4\" class=\"sk-toggleable__label sk-toggleable__label-arrow\">TfidfTransformer</label><div class=\"sk-toggleable__content\"><pre>TfidfTransformer()</pre></div></div></div><div class=\"sk-item\"><div class=\"sk-estimator sk-toggleable\"><input class=\"sk-toggleable__control sk-hidden--visually\" id=\"sk-estimator-id-5\" type=\"checkbox\" ><label for=\"sk-estimator-id-5\" class=\"sk-toggleable__label sk-toggleable__label-arrow\">MultinomialNB</label><div class=\"sk-toggleable__content\"><pre>MultinomialNB()</pre></div></div></div></div></div></div></div></div></div></div></div></div>"
     },
     "execution_count": 51,
     "metadata": {},
     "output_type": "execute_result"
    }
   ],
   "source": [
    "from sklearn.model_selection import GridSearchCV\n",
    "\n",
    "gscv = GridSearchCV(text_clf, param_grid=parameters)\n",
    "gscv.fit(twenty_train_full.data, twenty_train_full.target)"
   ]
  },
  {
   "cell_type": "code",
   "execution_count": 52,
   "id": "474a2d1b",
   "metadata": {
    "pycharm": {
     "name": "#%%\n"
    },
    "ExecuteTime": {
     "end_time": "2023-12-21T22:06:03.667303437Z",
     "start_time": "2023-12-21T22:06:03.521862342Z"
    }
   },
   "outputs": [
    {
     "name": "stdout",
     "output_type": "stream",
     "text": [
      "              precision    recall  f1-score   support\n",
      "\n",
      "           0       0.87      0.95      0.91       358\n",
      "           1       0.93      0.86      0.89       431\n",
      "           2       0.93      0.93      0.93       377\n",
      "\n",
      "    accuracy                           0.91      1166\n",
      "   macro avg       0.91      0.91      0.91      1166\n",
      "weighted avg       0.91      0.91      0.91      1166\n"
     ]
    }
   ],
   "source": [
    "print(classification_report(gscv.predict(twenty_test_full.data), twenty_test_full.target))"
   ]
  },
  {
   "cell_type": "code",
   "execution_count": 53,
   "id": "66b7df28",
   "metadata": {
    "pycharm": {
     "name": "#%%\n"
    },
    "ExecuteTime": {
     "end_time": "2023-12-21T22:06:03.749865529Z",
     "start_time": "2023-12-21T22:06:03.668966601Z"
    }
   },
   "outputs": [
    {
     "data": {
      "text/plain": "{'tfidf__use_idf': True, 'vect__max_features': 5000, 'vect__stop_words': None}"
     },
     "execution_count": 53,
     "metadata": {},
     "output_type": "execute_result"
    }
   ],
   "source": [
    "gscv.best_params_"
   ]
  }
 ],
 "metadata": {
  "kernelspec": {
   "display_name": "Python 3 (ipykernel)",
   "language": "python",
   "name": "python3"
  },
  "language_info": {
   "codemirror_mode": {
    "name": "ipython",
    "version": 3
   },
   "file_extension": ".py",
   "mimetype": "text/x-python",
   "name": "python",
   "nbconvert_exporter": "python",
   "pygments_lexer": "ipython3",
   "version": "3.11.5"
  }
 },
 "nbformat": 4,
 "nbformat_minor": 5
}
